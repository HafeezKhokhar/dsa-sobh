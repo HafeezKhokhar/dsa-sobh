{
 "cells": [
  {
   "cell_type": "code",
   "execution_count": 8,
   "metadata": {
    "id": "0FIrnPc6NUgf"
   },
   "outputs": [],
   "source": [
    "# import libraries\n",
    "\n",
    "from bs4 import BeautifulSoup\n",
    "import requests\n",
    "from time import sleep\n",
    "from datetime import datetime\n",
    "import csv\n",
    "import re\n",
    "import pandas as pd"
   ]
  },
  {
   "cell_type": "code",
   "execution_count": 9,
   "metadata": {
    "id": "0dR6YDNeSL8u"
   },
   "outputs": [],
   "source": [
    "# with open('daily_sobh_news.csv', 'w', newline='', encoding='utf-8') as f:\n",
    "#     fieldnames = ['Title', 'Topic', 'Link']\n",
    "#     thewriter = csv.DictWriter(f, fieldnames=fieldnames)\n",
    "#     thewriter.writeheader()"
   ]
  },
  {
   "cell_type": "code",
   "execution_count": 1,
   "metadata": {
    "id": "NEwVQNY7S44W"
   },
   "outputs": [],
   "source": [
    "# headers = {\"User-Agent\": \"Mozilla/5.0 (Windows NT 10.0; Win64; x64) AppleWebKit/537.36 (KHTML, like Gecko) Chrome/116.0.0.0 Safari/537.36 OPR/102.0.0.0\"}\n",
    "# i = 0\n",
    "# #Read the existing data\n",
    "# df = pd.read_csv('BBC_Urdu.csv')\n",
    "\n",
    "# for i in range(1, 10, 1):  # (start, end, intervals)\n",
    "#     urls = [f\"https://dailysobh.com/archives/category/%d9%be%d8%a7%da%aa%d8%b3%d8%aa%d8%a7%d9%86/page/{i}\",\n",
    "#             f\"https://dailysobh.com/archives/category/%d8%af%d9%86%d9%8a%d8%a7/page/{i}\",\n",
    "#             f\"https://dailysobh.com/archives/category/%d8%b3%d9%86%da%8c/page/{i}\",\n",
    "#             f\"https://dailysobh.com/archives/category/%d8%b9%d8%af%d8%a7%d9%84%d8%aa%d9%88%d9%86/page/{i}\",\n",
    "#             f\"https://dailysobh.com/archives/category/%d8%b1%d8%a7%d9%86%d8%af%d9%8a%d9%88%d9%86/page/{i}\",\n",
    "#             f\"https://dailysobh.com/archives/category/%d8%b4%d9%88%d8%a8%d8%b2/page/{i}\"]\n",
    "\n",
    "#     for top_url in urls:\n",
    "#         top_page = requests.get(top_url, headers=headers)\n",
    "#         top_soup = BeautifulSoup(top_page.content, \"html.parser\")\n",
    "#         topic = top_soup.find(\"h1\", id=\"content\").text.strip()\n",
    "\n",
    "#         a_tags = top_soup.find_all('a', class_='focusIndicatorDisplayBlock bbc-uk8dsi e1d658bg0')\n",
    "\n",
    "#         for a_tag in a_tags:\n",
    "#             if a_tag is not None:\n",
    "#                 link = a_tag.get('href')\n",
    "#                 title = a_tag.text\n",
    "\n",
    "#             for time_tag in top_soup.find_all('time'):\n",
    "#                 if time_tag is not None:\n",
    "#                     timestamp = time_tag.get('datetime')\n",
    "\n",
    "#             if df['Link'].str.contains(link).any():\n",
    "#                 continue\n",
    "\n",
    "#             with open('BBC_Urdu.csv', '+a', newline='', encoding='utf-8') as f:\n",
    "#                 fieldnames = ['Title', 'Topic', 'Timestamp', 'Link']\n",
    "#                 thewriter = csv.DictWriter(f, fieldnames=fieldnames)\n",
    "#                 thewriter.writerow({'Title': title, 'Topic': topic, 'Timestamp': timestamp, 'Link': link})\n",
    "\n",
    "#     sleep(5)"
   ]
  },
  {
   "cell_type": "code",
   "execution_count": 9,
   "metadata": {
    "colab": {
     "base_uri": "https://localhost:8080/",
     "height": 176
    },
    "id": "Yu-kkTprUrkN",
    "outputId": "93767bbe-074e-4c60-b4cf-d62a9189e0ff",
    "scrolled": false
   },
   "outputs": [],
   "source": [
    "import requests\n",
    "import pandas as pd\n",
    "import csv\n",
    "from bs4 import BeautifulSoup\n",
    "from time import sleep\n",
    "\n",
    "headers = {\"User-Agent\": \"Mozilla/5.0 (Windows NT 10.0; Win64; x64) AppleWebKit/537.36 (KHTML, like Gecko) Chrome/116.0.0.0 Safari/537.36 OPR/102.0.0.0\"}\n",
    "\n",
    "# Read the existing data\n",
    "df = pd.read_csv('daily_sobh_news.csv')\n",
    "\n",
    "# Open the file once for appending\n",
    "with open('daily_sobh_news.csv', 'a', newline='', encoding='utf-8') as f:\n",
    "    fieldnames = ['Title', 'Topic', 'Link']\n",
    "    thewriter = csv.DictWriter(f,fieldnames=fieldnames)\n",
    "\n",
    "    # If the file is empty, write the header\n",
    "    if f.tell() == 0:\n",
    "        thewriter.writeheader()\n",
    "\n",
    "    # Iterate over the pages\n",
    "    for i in range(1,28):\n",
    "        url = f\"https://dailysobh.com/archives/category/%d8%b4%d9%88%d8%a8%d8%b2/page/{i}\"\n",
    "        top_page = requests.get(url, headers=headers)\n",
    "        top_soup = BeautifulSoup(top_page.content, \"html.parser\")\n",
    "        topic = top_soup.find(\"h1\", class_=\"page-title\").text.strip()\n",
    "\n",
    "        div_tags = top_soup.find_all('div', class_='archive-entry-content')\n",
    "\n",
    "        for div_tag in div_tags:\n",
    "            a_tag = div_tag.find('a')\n",
    "            if a_tag is not None:\n",
    "                link = a_tag.get('href')\n",
    "                title = a_tag.text.strip()\n",
    "\n",
    "                # Check if the link already exists in the DataFrame\n",
    "                if df['Link'].str.contains(link).any():\n",
    "                     continue\n",
    " \n",
    "                # Write the new row to the CSV file\n",
    "                thewriter.writerow({'Title': title, 'Topic': topic, 'Link': link})\n",
    "               \n"
   ]
  },
  {
   "cell_type": "code",
   "execution_count": null,
   "metadata": {
    "colab": {
     "base_uri": "https://localhost:8080/"
    },
    "id": "VZ32tY9UWVxJ",
    "outputId": "634def48-c4e5-456e-f29a-e3f8137baccb"
   },
   "outputs": [],
   "source": [
    "df_test = pd.read_csv('daily_sobh_news.csv')\n",
    "print(df_test)"
   ]
  },
  {
   "cell_type": "code",
   "execution_count": null,
   "metadata": {
    "id": "lQLlK8RhXOMH"
   },
   "outputs": [],
   "source": []
  }
 ],
 "metadata": {
  "colab": {
   "provenance": []
  },
  "kernelspec": {
   "display_name": "Python 3 (ipykernel)",
   "language": "python",
   "name": "python3"
  },
  "language_info": {
   "codemirror_mode": {
    "name": "ipython",
    "version": 3
   },
   "file_extension": ".py",
   "mimetype": "text/x-python",
   "name": "python",
   "nbconvert_exporter": "python",
   "pygments_lexer": "ipython3",
   "version": "3.11.5"
  }
 },
 "nbformat": 4,
 "nbformat_minor": 1
}
