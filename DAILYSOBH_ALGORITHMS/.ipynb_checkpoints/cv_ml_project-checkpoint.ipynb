{
 "cells": [
  {
   "cell_type": "code",
   "execution_count": 1,
   "metadata": {},
   "outputs": [],
   "source": [
    "import pandas as pd\n",
    "import re\n",
    "\n",
    "import matplotlib as plt\n",
    "\n",
    "from sklearn.model_selection import train_test_split\n",
    "from sklearn.metrics import confusion_matrix, classification_report, f1_score"
   ]
  },
  {
   "cell_type": "code",
   "execution_count": 2,
   "metadata": {},
   "outputs": [
    {
     "data": {
      "text/html": [
       "<div>\n",
       "<style scoped>\n",
       "    .dataframe tbody tr th:only-of-type {\n",
       "        vertical-align: middle;\n",
       "    }\n",
       "\n",
       "    .dataframe tbody tr th {\n",
       "        vertical-align: top;\n",
       "    }\n",
       "\n",
       "    .dataframe thead th {\n",
       "        text-align: right;\n",
       "    }\n",
       "</style>\n",
       "<table border=\"1\" class=\"dataframe\">\n",
       "  <thead>\n",
       "    <tr style=\"text-align: right;\">\n",
       "      <th></th>\n",
       "      <th>Title</th>\n",
       "      <th>Topic</th>\n",
       "      <th>Link</th>\n",
       "    </tr>\n",
       "  </thead>\n",
       "  <tbody>\n",
       "    <tr>\n",
       "      <th>0</th>\n",
       "      <td>شاهد خاقان عباسي جو نالو اي سي ايل مان ڪڍڻ جو حڪم</td>\n",
       "      <td>عدالتون</td>\n",
       "      <td>https://dailysobh.com/archives/108793</td>\n",
       "    </tr>\n",
       "    <tr>\n",
       "      <th>1</th>\n",
       "      <td>جيڪو ٿئي پيو سو تڪليف ڏيندڙ آهي، پنجاب اسان جي...</td>\n",
       "      <td>عدالتون</td>\n",
       "      <td>https://dailysobh.com/archives/79976</td>\n",
       "    </tr>\n",
       "    <tr>\n",
       "      <th>2</th>\n",
       "      <td>سنڌ ثقافتي ورثي جو تحفظ ناهي ڪري سگهيو، مڪلي ۽...</td>\n",
       "      <td>عدالتون</td>\n",
       "      <td>https://dailysobh.com/archives/79960</td>\n",
       "    </tr>\n",
       "    <tr>\n",
       "      <th>3</th>\n",
       "      <td>سپريم ڪورٽ پاران پوليس اهلڪار کي بحال ڪرڻ وارو...</td>\n",
       "      <td>عدالتون</td>\n",
       "      <td>https://dailysobh.com/archives/79898</td>\n",
       "    </tr>\n",
       "    <tr>\n",
       "      <th>4</th>\n",
       "      <td>بينظير ڀٽو جي ورسي تي   سنڌ حڪومت  پاران اڄ  ع...</td>\n",
       "      <td>عدالتون</td>\n",
       "      <td>https://dailysobh.com/archives/79895</td>\n",
       "    </tr>\n",
       "  </tbody>\n",
       "</table>\n",
       "</div>"
      ],
      "text/plain": [
       "                                               Title    Topic  \\\n",
       "0  شاهد خاقان عباسي جو نالو اي سي ايل مان ڪڍڻ جو حڪم  عدالتون   \n",
       "1  جيڪو ٿئي پيو سو تڪليف ڏيندڙ آهي، پنجاب اسان جي...  عدالتون   \n",
       "2  سنڌ ثقافتي ورثي جو تحفظ ناهي ڪري سگهيو، مڪلي ۽...  عدالتون   \n",
       "3  سپريم ڪورٽ پاران پوليس اهلڪار کي بحال ڪرڻ وارو...  عدالتون   \n",
       "4  بينظير ڀٽو جي ورسي تي   سنڌ حڪومت  پاران اڄ  ع...  عدالتون   \n",
       "\n",
       "                                    Link  \n",
       "0  https://dailysobh.com/archives/108793  \n",
       "1   https://dailysobh.com/archives/79976  \n",
       "2   https://dailysobh.com/archives/79960  \n",
       "3   https://dailysobh.com/archives/79898  \n",
       "4   https://dailysobh.com/archives/79895  "
      ]
     },
     "execution_count": 2,
     "metadata": {},
     "output_type": "execute_result"
    }
   ],
   "source": [
    "data_set = pd.read_csv('daily_sobh_news.csv')\n",
    "data_set.head()"
   ]
  },
  {
   "cell_type": "code",
   "execution_count": 3,
   "metadata": {},
   "outputs": [
    {
     "data": {
      "text/html": [
       "<div>\n",
       "<style scoped>\n",
       "    .dataframe tbody tr th:only-of-type {\n",
       "        vertical-align: middle;\n",
       "    }\n",
       "\n",
       "    .dataframe tbody tr th {\n",
       "        vertical-align: top;\n",
       "    }\n",
       "\n",
       "    .dataframe thead th {\n",
       "        text-align: right;\n",
       "    }\n",
       "</style>\n",
       "<table border=\"1\" class=\"dataframe\">\n",
       "  <thead>\n",
       "    <tr style=\"text-align: right;\">\n",
       "      <th></th>\n",
       "      <th>Title</th>\n",
       "      <th>Topic</th>\n",
       "      <th>Link</th>\n",
       "    </tr>\n",
       "  </thead>\n",
       "  <tbody>\n",
       "    <tr>\n",
       "      <th>0</th>\n",
       "      <td>شاهد خاقان عباسي جو نالو اي سي ايل مان ڪڍڻ جو حڪم</td>\n",
       "      <td>عدالتون</td>\n",
       "      <td>https://dailysobh.com/archives/108793</td>\n",
       "    </tr>\n",
       "    <tr>\n",
       "      <th>1</th>\n",
       "      <td>جيڪو ٿئي پيو سو تڪليف ڏيندڙ آهي، پنجاب اسان جي...</td>\n",
       "      <td>عدالتون</td>\n",
       "      <td>https://dailysobh.com/archives/79976</td>\n",
       "    </tr>\n",
       "    <tr>\n",
       "      <th>2</th>\n",
       "      <td>سنڌ ثقافتي ورثي جو تحفظ ناهي ڪري سگهيو، مڪلي ۽...</td>\n",
       "      <td>عدالتون</td>\n",
       "      <td>https://dailysobh.com/archives/79960</td>\n",
       "    </tr>\n",
       "    <tr>\n",
       "      <th>3</th>\n",
       "      <td>سپريم ڪورٽ پاران پوليس اهلڪار کي بحال ڪرڻ وارو...</td>\n",
       "      <td>عدالتون</td>\n",
       "      <td>https://dailysobh.com/archives/79898</td>\n",
       "    </tr>\n",
       "    <tr>\n",
       "      <th>4</th>\n",
       "      <td>بينظير ڀٽو جي ورسي تي   سنڌ حڪومت  پاران اڄ  ع...</td>\n",
       "      <td>عدالتون</td>\n",
       "      <td>https://dailysobh.com/archives/79895</td>\n",
       "    </tr>\n",
       "    <tr>\n",
       "      <th>...</th>\n",
       "      <td>...</td>\n",
       "      <td>...</td>\n",
       "      <td>...</td>\n",
       "    </tr>\n",
       "    <tr>\n",
       "      <th>8571</th>\n",
       "      <td>پُر اعتماد انسان زندگي ۾ ڪجهه به حاصل ڪري سگهي...</td>\n",
       "      <td>شوبز</td>\n",
       "      <td>https://dailysobh.com/archives/50330</td>\n",
       "    </tr>\n",
       "    <tr>\n",
       "      <th>8572</th>\n",
       "      <td>گلوڪار فرحان سعيد ۽ اداڪاره عروه حسين راهون جد...</td>\n",
       "      <td>شوبز</td>\n",
       "      <td>https://dailysobh.com/archives/50202</td>\n",
       "    </tr>\n",
       "    <tr>\n",
       "      <th>8573</th>\n",
       "      <td>مسڪرائڻ سان ڪنهن به ڏک کي لڪائي سگهجي ٿو: صنم ...</td>\n",
       "      <td>شوبز</td>\n",
       "      <td>https://dailysobh.com/archives/50170</td>\n",
       "    </tr>\n",
       "    <tr>\n",
       "      <th>8574</th>\n",
       "      <td>شوبز  جي دنيا ۾ ڪيترن ئي سالن تائين هراسان ڪيو...</td>\n",
       "      <td>شوبز</td>\n",
       "      <td>https://dailysobh.com/archives/50148</td>\n",
       "    </tr>\n",
       "    <tr>\n",
       "      <th>8575</th>\n",
       "      <td>علي ظفر ۽ عروج فاطمه گڏجي سنڌي گيت ” الي منهنج...</td>\n",
       "      <td>شوبز</td>\n",
       "      <td>https://dailysobh.com/archives/49973</td>\n",
       "    </tr>\n",
       "  </tbody>\n",
       "</table>\n",
       "<p>8576 rows × 3 columns</p>\n",
       "</div>"
      ],
      "text/plain": [
       "                                                  Title    Topic  \\\n",
       "0     شاهد خاقان عباسي جو نالو اي سي ايل مان ڪڍڻ جو حڪم  عدالتون   \n",
       "1     جيڪو ٿئي پيو سو تڪليف ڏيندڙ آهي، پنجاب اسان جي...  عدالتون   \n",
       "2     سنڌ ثقافتي ورثي جو تحفظ ناهي ڪري سگهيو، مڪلي ۽...  عدالتون   \n",
       "3     سپريم ڪورٽ پاران پوليس اهلڪار کي بحال ڪرڻ وارو...  عدالتون   \n",
       "4     بينظير ڀٽو جي ورسي تي   سنڌ حڪومت  پاران اڄ  ع...  عدالتون   \n",
       "...                                                 ...      ...   \n",
       "8571  پُر اعتماد انسان زندگي ۾ ڪجهه به حاصل ڪري سگهي...     شوبز   \n",
       "8572  گلوڪار فرحان سعيد ۽ اداڪاره عروه حسين راهون جد...     شوبز   \n",
       "8573  مسڪرائڻ سان ڪنهن به ڏک کي لڪائي سگهجي ٿو: صنم ...     شوبز   \n",
       "8574  شوبز  جي دنيا ۾ ڪيترن ئي سالن تائين هراسان ڪيو...     شوبز   \n",
       "8575  علي ظفر ۽ عروج فاطمه گڏجي سنڌي گيت ” الي منهنج...     شوبز   \n",
       "\n",
       "                                       Link  \n",
       "0     https://dailysobh.com/archives/108793  \n",
       "1      https://dailysobh.com/archives/79976  \n",
       "2      https://dailysobh.com/archives/79960  \n",
       "3      https://dailysobh.com/archives/79898  \n",
       "4      https://dailysobh.com/archives/79895  \n",
       "...                                     ...  \n",
       "8571   https://dailysobh.com/archives/50330  \n",
       "8572   https://dailysobh.com/archives/50202  \n",
       "8573   https://dailysobh.com/archives/50170  \n",
       "8574   https://dailysobh.com/archives/50148  \n",
       "8575   https://dailysobh.com/archives/49973  \n",
       "\n",
       "[8576 rows x 3 columns]"
      ]
     },
     "execution_count": 3,
     "metadata": {},
     "output_type": "execute_result"
    }
   ],
   "source": [
    "data_set.dropna()"
   ]
  },
  {
   "cell_type": "code",
   "execution_count": 4,
   "metadata": {},
   "outputs": [
    {
     "data": {
      "text/plain": [
       "(8576, 3)"
      ]
     },
     "execution_count": 4,
     "metadata": {},
     "output_type": "execute_result"
    }
   ],
   "source": [
    "data_set.shape"
   ]
  },
  {
   "cell_type": "code",
   "execution_count": 5,
   "metadata": {},
   "outputs": [
    {
     "name": "stdout",
     "output_type": "stream",
     "text": [
      "0\n"
     ]
    }
   ],
   "source": [
    "print(data_set['Title'].isna().sum())\n"
   ]
  },
  {
   "cell_type": "code",
   "execution_count": 35,
   "metadata": {},
   "outputs": [],
   "source": [
    "data_set['Title'] = data_set['Title'].fillna('')\n",
    "data_set['Topic'] = data_set['Topic'].fillna('')\n"
   ]
  },
  {
   "cell_type": "code",
   "execution_count": 36,
   "metadata": {},
   "outputs": [
    {
     "name": "stdout",
     "output_type": "stream",
     "text": [
      "['اب', 'ابھی', 'اپنا', 'اپنے', 'اپنی', 'اٹھا', 'اس', 'اسے', 'اسی', 'اگر', 'ان', 'انہوں', 'انہی', 'انہیں', 'انھیں', 'او', 'اور', 'اے', 'ایسا', 'ایسے', 'ایسی', 'ایک', 'آ', 'آپ', 'آتا', 'آتے', 'آتی', 'آگے', 'آنا', 'آنے', 'آنی', 'آئے', 'آئی', 'آئیں', 'آیا', 'با', 'بڑا', 'بڑے', 'بڑی', 'بعد', 'بعض', 'بلکہ', 'بہت', 'بھی', 'بے', 'پاس', 'پر', 'پہلے', 'پھر', 'تا', 'تاکہ', 'تب', 'تجھ', 'تجھے', 'تک', 'تم', 'تمام', 'تمہارا', 'تمہارے', 'تمھارے', 'تمہاری', 'تمہیں', 'تمھیں', 'تھا', 'تھے', 'تھی', 'تھیں', 'تو', 'تیری', 'تیرے', 'جا', 'جاتا', 'جاتی', 'جاتے', 'جاتی', 'جانے', 'جانی', 'جاؤ', 'جائے', 'جائیں', 'جب', 'جس', 'جن', 'جنہوں', 'جنہیں', 'جو', 'جیسا', 'جیسے', 'جیسی', 'جیسوں', 'چاہیئے', 'چلا', 'چاہے', 'چونکہ', 'حالاں', 'حالانکہ', 'دو', 'دونوں', 'دوں', 'دے', 'دی', 'دیا', 'دیں', 'دیے', 'دیتا', 'دیتے', 'دیتی', 'دینا', 'دینے', 'دینی', 'دیئے', 'ڈالا', 'ڈالنا', 'ڈالنے', 'ڈالنی', 'ڈالے', 'ڈالی', 'ذرا', 'رکھا', 'رکھتا', 'رکھتے', 'رکھتی', 'رکھنا', 'رکھنے', 'رکھنی', 'رکھے', 'رکھی', 'رہ', 'رہا', 'رہتا', 'رہتے', 'رہتی', 'رہنا', 'رہنے', 'رہنی', 'رہو', 'رہے', 'رہی', 'رہیں', 'زیادہ', 'سا', 'سامنے', 'سب', 'سکتا', 'سو', 'سے', 'سی', 'شاید', 'صرف', 'طرح', 'طرف', 'عین', 'کا', 'کبھی', 'کچھ', 'کہہ', 'کر', 'کرتا', 'کرتے', 'کرتی', 'کرنا', 'کرنے', 'کرو', 'کروں', 'کرے', 'کریں', 'کس', 'کسے', 'کسی', 'کہ', 'کہا', 'کہے', 'کو', 'کون', 'کوئی', 'کے', 'کی', 'کیا', 'کیسے', 'کیوں', 'کیونکہ', 'کیے', 'کئے', 'گا', 'گویا', 'گے', 'گی', 'گیا', 'گئے', 'گئی', 'لا', 'لاتا', 'لاتے', 'لاتی', 'لانا', 'لانے', 'لانی', 'لایا', 'لائے', 'لائی', 'لگا', 'لگے', 'لگی', 'لگیں', 'لو', 'لے', 'لی', 'لیا', 'لیتا', 'لیتے', 'لیتی', 'لیکن', 'لیں', 'لیے', 'لئے', 'مجھ', 'مجھے', 'مگر', 'میرا', 'میرے', 'میری', 'میں', 'نا', 'نہ', 'نہایت', 'نہیں', 'نے', 'ہاں', 'ہر', 'ہم', 'ہمارا', 'ہمارے', 'ہماری', 'ہو', 'ہوا', 'ہوتا', 'ہوتے', 'ہوتی', 'ہوتیں', 'ہوں', 'ہونا', 'ہونگے', 'ہونے', 'ہونی', 'ہوئے', 'ہوئی', 'ہوئیں', 'ہے', 'ہی', 'ہیں', 'و', 'والا', 'والوں', 'والے', 'والی', 'وہ', 'وہاں', 'وہی', 'وہیں', 'یا', 'یعنی', 'یہ', 'یہاں', 'یہی', 'یہیں', '']\n"
     ]
    }
   ],
   "source": [
    "import requests\n",
    "\n",
    "github_file_url = \"https://raw.githubusercontent.com/Delta-Sigma/urdu-stopwords/master/urdu_stopwords.txt\"\n",
    "\n",
    "response = requests.get(github_file_url)\n",
    "\n",
    "if response.status_code == 200:\n",
    "    content = response.text\n",
    "    stop_words = content.split(\"\\n\")\n",
    "    print(stop_words)\n",
    "else:\n",
    "    print(f\"Failed to fetch file from GitHub. Status code: {response.status_code}\")\n"
   ]
  },
  {
   "cell_type": "code",
   "execution_count": 37,
   "metadata": {},
   "outputs": [],
   "source": [
    "data_set['Title'] = data_set['Title'].apply(lambda x: ' '.join([word for word in x.split() if word not in (stop_words)]))"
   ]
  },
  {
   "cell_type": "code",
   "execution_count": 38,
   "metadata": {},
   "outputs": [
    {
     "name": "stdout",
     "output_type": "stream",
     "text": [
      "0       ’مینوپاز بات کولیگز بولیں کہنا چاہتی بچے پیدا ...\n",
      "1       کینیڈا ’سٹارٹ اپ ویزا پروگرام‘ کن شرائط خیال ض...\n",
      "2       ریاض الجنہ حد مقرر: ’میرے شوہر روضہ رسول دیکھے...\n",
      "3          چٹان عورتوں زنانہ وار تحریک: عاصمہ شیرازی کالم\n",
      "4       خیبرپختونخوا علاقہ جہاں غیر قانونی طور پانی سو...\n",
      "                              ...                        \n",
      "5751    جیک ٹیکسیرا: حساس امریکی معلومات لیک الزام گرف...\n",
      "5752    حیدرآباد آخری نظام مکرم جاہ وراثت ملنے اربوں ج...\n",
      "5753    ’میری بیٹی کھوپڑی بغیر بچہ پیدا مجبور گیا، لڑ ...\n",
      "5754    چلو دلدار چلو، چاند پار چلو: مشتری چار چاندوں ...\n",
      "5755    ویڈیو, ڈریسنگ ٹیبل چیزیں بچوں خطرناک سکتی ہیں؟...\n",
      "Name: Title, Length: 5756, dtype: object\n"
     ]
    }
   ],
   "source": [
    "print(data_set['Title'])"
   ]
  },
  {
   "cell_type": "code",
   "execution_count": 39,
   "metadata": {},
   "outputs": [],
   "source": [
    "# removing special characters\n",
    "import re\n",
    "\n",
    "pattern = r'[!@#$%^&*(){};:,.<>\\\"|+=~`-]‘’،؟'\n",
    "data_set['Title'] = data_set['Title'].apply(lambda x: re.sub(pattern, '', x) if isinstance(x, str) else '')"
   ]
  },
  {
   "cell_type": "code",
   "execution_count": 40,
   "metadata": {},
   "outputs": [
    {
     "name": "stdout",
     "output_type": "stream",
     "text": [
      "0       ’مینوپاز بات کولیگز بولیں کہنا چاہتی بچے پیدا ...\n",
      "1       کینیڈا ’سٹارٹ اپ ویزا پروگرام‘ کن شرائط خیال ض...\n",
      "2       ریاض الجنہ حد مقرر: ’میرے شوہر روضہ رسول دیکھے...\n",
      "3          چٹان عورتوں زنانہ وار تحریک: عاصمہ شیرازی کالم\n",
      "4       خیبرپختونخوا علاقہ جہاں غیر قانونی طور پانی سو...\n",
      "                              ...                        \n",
      "5751    جیک ٹیکسیرا: حساس امریکی معلومات لیک الزام گرف...\n",
      "5752    حیدرآباد آخری نظام مکرم جاہ وراثت ملنے اربوں ج...\n",
      "5753    ’میری بیٹی کھوپڑی بغیر بچہ پیدا مجبور گیا، لڑ ...\n",
      "5754    چلو دلدار چلو، چاند پار چلو: مشتری چار چاندوں ...\n",
      "5755    ویڈیو, ڈریسنگ ٹیبل چیزیں بچوں خطرناک سکتی ہیں؟...\n",
      "Name: Title, Length: 5756, dtype: object\n"
     ]
    }
   ],
   "source": [
    "print(data_set['Title'])"
   ]
  },
  {
   "cell_type": "code",
   "execution_count": 41,
   "metadata": {},
   "outputs": [
    {
     "name": "stdout",
     "output_type": "stream",
     "text": [
      "پاکستان\n",
      "آس پاس\n",
      "ورلڈ\n",
      "کھیل\n",
      "فن فنکار\n",
      "سائنس\n"
     ]
    }
   ],
   "source": [
    "type_of_news = data_set['Topic'].unique()\n",
    "for i in range(len(type_of_news)):\n",
    "    print(type_of_news[i])"
   ]
  },
  {
   "cell_type": "code",
   "execution_count": 42,
   "metadata": {},
   "outputs": [
    {
     "data": {
      "image/png": "[encoded data removed]",
      "text/plain": [
       "<Figure size 1000x600 with 1 Axes>"
      ]
     },
     "metadata": {},
     "output_type": "display_data"
    }
   ],
   "source": [
    "# bar graph of type of media\n",
    "import matplotlib.pyplot as plt\n",
    "\n",
    "type_of_news_mapping = {'پاکستان': 1, 'آس پاس': 2, 'ورلڈ': 3, 'کھیل': 4, 'فن فنکار': 5, 'سائنس': 6}\n",
    "type_of_news_counts = data_set['Topic'].map(type_of_news_mapping).value_counts()\n",
    "\n",
    "plt.figure(figsize=(10, 6))\n",
    "type_of_news_counts.plot(kind='bar', color='green')\n",
    "plt.xlabel('Type of News')\n",
    "plt.ylabel('Count')\n",
    "plt.title('Type of News vs Count')\n",
    "plt.show()"
   ]
  },
  {
   "cell_type": "code",
   "execution_count": 43,
   "metadata": {},
   "outputs": [
    {
     "data": {
      "image/png": "[encoded data removed]",
      "text/plain": [
       "<Figure size 1000x600 with 1 Axes>"
      ]
     },
     "metadata": {},
     "output_type": "display_data"
    }
   ],
   "source": [
    "# scatter plot of type of media\n",
    "import matplotlib.pyplot as plt\n",
    "\n",
    "type_of_news_mapping = {'پاکستان': 1, 'آس پاس': 2, 'ورلڈ': 3, 'کھیل': 4, 'فن فنکار': 5, 'سائنس': 6}\n",
    "type_of_news_counts = data_set['Topic'].map(type_of_news_mapping).value_counts()\n",
    "\n",
    "plt.figure(figsize=(10, 6))\n",
    "plt.scatter(type_of_news_counts.index, type_of_news_counts.values, color='green')\n",
    "plt.xlabel('Type of News')\n",
    "plt.ylabel('Count')\n",
    "plt.title('Type of News vs Count')\n",
    "plt.xticks(list(type_of_news_mapping.values()), list(type_of_news_mapping.keys()), rotation='vertical')\n",
    "plt.show()"
   ]
  },
  {
   "cell_type": "code",
   "execution_count": 44,
   "metadata": {},
   "outputs": [
    {
     "data": {
      "image/png": "[encoded data removed]",
      "text/plain": [
       "<Figure size 1000x600 with 1 Axes>"
      ]
     },
     "metadata": {},
     "output_type": "display_data"
    }
   ],
   "source": [
    "# histogram graph of type of media\n",
    "import matplotlib.pyplot as plt\n",
    "\n",
    "type_of_news_mapping = {'پاکستان': 1, 'آس پاس': 2, 'ورلڈ': 3, 'کھیل': 4, 'فن فنکار': 5, 'سائنس': 6}\n",
    "type_of_news_counts = data_set['Topic'].map(type_of_news_mapping)\n",
    "\n",
    "plt.figure(figsize=(10, 6))\n",
    "plt.hist(type_of_news_counts, bins=len(type_of_news_mapping), color='green')\n",
    "plt.xlabel('Type of News')\n",
    "plt.ylabel('Count')\n",
    "plt.title('Distribution of Type of News')\n",
    "plt.xticks(list(type_of_news_mapping.values()), list(type_of_news_mapping.keys()), rotation='vertical')\n",
    "plt.show()"
   ]
  },
  {
   "cell_type": "code",
   "execution_count": 45,
   "metadata": {},
   "outputs": [
    {
     "name": "stdout",
     "output_type": "stream",
     "text": [
      "  (0, 6178)\t2\n",
      "  (0, 1197)\t2\n",
      "  (0, 8292)\t1\n",
      "  (0, 1586)\t1\n",
      "  (0, 8433)\t1\n",
      "  (0, 7537)\t1\n",
      "  (0, 1639)\t1\n",
      "  (0, 7434)\t1\n",
      "  (0, 4083)\t1\n",
      "  (0, 243)\t1\n",
      "  (0, 9036)\t1\n",
      "  (0, 8491)\t1\n",
      "  (1, 8483)\t1\n",
      "  (1, 4000)\t1\n",
      "  (1, 972)\t1\n",
      "  (1, 6773)\t1\n",
      "  (1, 7155)\t1\n",
      "  (1, 8223)\t1\n",
      "  (1, 4289)\t1\n",
      "  (1, 2777)\t1\n",
      "  (1, 4507)\t1\n",
      "  (1, 9077)\t1\n",
      "  (2, 3433)\t1\n",
      "  (2, 664)\t1\n",
      "  (2, 2554)\t1\n",
      "  :\t:\n",
      "  (5753, 1634)\t1\n",
      "  (5753, 8979)\t1\n",
      "  (5753, 6147)\t1\n",
      "  (5753, 8393)\t1\n",
      "  (5754, 7506)\t1\n",
      "  (5754, 3535)\t1\n",
      "  (5754, 7518)\t1\n",
      "  (5754, 7002)\t1\n",
      "  (5754, 5735)\t1\n",
      "  (5754, 760)\t1\n",
      "  (5754, 7575)\t3\n",
      "  (5754, 2224)\t1\n",
      "  (5754, 2928)\t1\n",
      "  (5754, 5723)\t1\n",
      "  (5754, 7519)\t1\n",
      "  (5755, 9075)\t1\n",
      "  (5755, 6803)\t1\n",
      "  (5755, 2967)\t1\n",
      "  (5755, 2717)\t1\n",
      "  (5755, 4081)\t1\n",
      "  (5755, 1630)\t1\n",
      "  (5755, 7733)\t1\n",
      "  (5755, 7826)\t1\n",
      "  (5755, 153)\t1\n",
      "  (5755, 6938)\t1\n"
     ]
    }
   ],
   "source": [
    "from sklearn.feature_extraction.text import CountVectorizer\n",
    "\n",
    "count_vectorizer = CountVectorizer()\n",
    "count_matrix = count_vectorizer.fit_transform(data_set['Title'])\n",
    "\n",
    "y = data_set['Topic']\n",
    "print(count_matrix)"
   ]
  },
  {
   "cell_type": "code",
   "execution_count": 46,
   "metadata": {},
   "outputs": [
    {
     "data": {
      "text/html": [
       "<style>#sk-container-id-3 {color: black;}#sk-container-id-3 pre{padding: 0;}#sk-container-id-3 div.sk-toggleable {background-color: white;}#sk-container-id-3 label.sk-toggleable__label {cursor: pointer;display: block;width: 100%;margin-bottom: 0;padding: 0.3em;box-sizing: border-box;text-align: center;}#sk-container-id-3 label.sk-toggleable__label-arrow:before {content: \"▸\";float: left;margin-right: 0.25em;color: #696969;}#sk-container-id-3 label.sk-toggleable__label-arrow:hover:before {color: black;}#sk-container-id-3 div.sk-estimator:hover label.sk-toggleable__label-arrow:before {color: black;}#sk-container-id-3 div.sk-toggleable__content {max-height: 0;max-width: 0;overflow: hidden;text-align: left;background-color: #f0f8ff;}#sk-container-id-3 div.sk-toggleable__content pre {margin: 0.2em;color: black;border-radius: 0.25em;background-color: #f0f8ff;}#sk-container-id-3 input.sk-toggleable__control:checked~div.sk-toggleable__content {max-height: 200px;max-width: 100%;overflow: auto;}#sk-container-id-3 input.sk-toggleable__control:checked~label.sk-toggleable__label-arrow:before {content: \"▾\";}#sk-container-id-3 div.sk-estimator input.sk-toggleable__control:checked~label.sk-toggleable__label {background-color: #d4ebff;}#sk-container-id-3 div.sk-label input.sk-toggleable__control:checked~label.sk-toggleable__label {background-color: #d4ebff;}#sk-container-id-3 input.sk-hidden--visually {border: 0;clip: rect(1px 1px 1px 1px);clip: rect(1px, 1px, 1px, 1px);height: 1px;margin: -1px;overflow: hidden;padding: 0;position: absolute;width: 1px;}#sk-container-id-3 div.sk-estimator {font-family: monospace;background-color: #f0f8ff;border: 1px dotted black;border-radius: 0.25em;box-sizing: border-box;margin-bottom: 0.5em;}#sk-container-id-3 div.sk-estimator:hover {background-color: #d4ebff;}#sk-container-id-3 div.sk-parallel-item::after {content: \"\";width: 100%;border-bottom: 1px solid gray;flex-grow: 1;}#sk-container-id-3 div.sk-label:hover label.sk-toggleable__label {background-color: #d4ebff;}#sk-container-id-3 div.sk-serial::before {content: \"\";position: absolute;border-left: 1px solid gray;box-sizing: border-box;top: 0;bottom: 0;left: 50%;z-index: 0;}#sk-container-id-3 div.sk-serial {display: flex;flex-direction: column;align-items: center;background-color: white;padding-right: 0.2em;padding-left: 0.2em;position: relative;}#sk-container-id-3 div.sk-item {position: relative;z-index: 1;}#sk-container-id-3 div.sk-parallel {display: flex;align-items: stretch;justify-content: center;background-color: white;position: relative;}#sk-container-id-3 div.sk-item::before, #sk-container-id-3 div.sk-parallel-item::before {content: \"\";position: absolute;border-left: 1px solid gray;box-sizing: border-box;top: 0;bottom: 0;left: 50%;z-index: -1;}#sk-container-id-3 div.sk-parallel-item {display: flex;flex-direction: column;z-index: 1;position: relative;background-color: white;}#sk-container-id-3 div.sk-parallel-item:first-child::after {align-self: flex-end;width: 50%;}#sk-container-id-3 div.sk-parallel-item:last-child::after {align-self: flex-start;width: 50%;}#sk-container-id-3 div.sk-parallel-item:only-child::after {width: 0;}#sk-container-id-3 div.sk-dashed-wrapped {border: 1px dashed gray;margin: 0 0.4em 0.5em 0.4em;box-sizing: border-box;padding-bottom: 0.4em;background-color: white;}#sk-container-id-3 div.sk-label label {font-family: monospace;font-weight: bold;display: inline-block;line-height: 1.2em;}#sk-container-id-3 div.sk-label-container {text-align: center;}#sk-container-id-3 div.sk-container {/* jupyter's `normalize.less` sets `[hidden] { display: none; }` but bootstrap.min.css set `[hidden] { display: none !important; }` so we also need the `!important` here to be able to override the default hidden behavior on the sphinx rendered scikit-learn.org. See: https://github.com/scikit-learn/scikit-learn/issues/21755 */display: inline-block !important;position: relative;}#sk-container-id-3 div.sk-text-repr-fallback {display: none;}</style><div id=\"sk-container-id-3\" class=\"sk-top-container\"><div class=\"sk-text-repr-fallback\"><pre>LogisticRegression(max_iter=1000)</pre><b>In a Jupyter environment, please rerun this cell to show the HTML representation or trust the notebook. <br />On GitHub, the HTML representation is unable to render, please try loading this page with nbviewer.org.</b></div><div class=\"sk-container\" hidden><div class=\"sk-item\"><div class=\"sk-estimator sk-toggleable\"><input class=\"sk-toggleable__control sk-hidden--visually\" id=\"sk-estimator-id-3\" type=\"checkbox\" checked><label for=\"sk-estimator-id-3\" class=\"sk-toggleable__label sk-toggleable__label-arrow\">LogisticRegression</label><div class=\"sk-toggleable__content\"><pre>LogisticRegression(max_iter=1000)</pre></div></div></div></div></div>"
      ],
      "text/plain": [
       "LogisticRegression(max_iter=1000)"
      ]
     },
     "execution_count": 46,
     "metadata": {},
     "output_type": "execute_result"
    }
   ],
   "source": [
    "#Classification LAgorithm 1\n",
    "from sklearn.linear_model import LogisticRegression\n",
    "from sklearn.metrics import classification_report\n",
    "from sklearn.model_selection import train_test_split\n",
    "\n",
    "x_train, x_test, y_train, y_test = train_test_split(count_matrix, y, test_size=0.2, random_state=42)\n",
    "\n",
    "logistic_regression = LogisticRegression(max_iter=1000)\n",
    "logistic_regression.fit(x_train, y_train)\n"
   ]
  },
  {
   "cell_type": "code",
   "execution_count": 47,
   "metadata": {},
   "outputs": [
    {
     "name": "stdout",
     "output_type": "stream",
     "text": [
      "              precision    recall  f1-score   support\n",
      "\n",
      "      آس پاس       0.32      0.29      0.31       208\n",
      "       سائنس       0.24      0.29      0.27       184\n",
      "    فن فنکار       0.63      0.67      0.65       181\n",
      "        ورلڈ       0.38      0.38      0.38       176\n",
      "     پاکستان       0.59      0.57      0.58       204\n",
      "        کھیل       0.76      0.68      0.72       199\n",
      "\n",
      "    accuracy                           0.48      1152\n",
      "   macro avg       0.49      0.48      0.48      1152\n",
      "weighted avg       0.49      0.48      0.49      1152\n",
      "\n"
     ]
    }
   ],
   "source": [
    "# classification report of logistic model\n",
    "y_pred = logistic_regression.predict(x_test)\n",
    "logistic_regression_report = classification_report(y_test, y_pred, zero_division=1)\n",
    "print(logistic_regression_report)"
   ]
  },
  {
   "cell_type": "code",
   "execution_count": 48,
   "metadata": {},
   "outputs": [
    {
     "data": {
      "text/html": [
       "<style>#sk-container-id-4 {color: black;}#sk-container-id-4 pre{padding: 0;}#sk-container-id-4 div.sk-toggleable {background-color: white;}#sk-container-id-4 label.sk-toggleable__label {cursor: pointer;display: block;width: 100%;margin-bottom: 0;padding: 0.3em;box-sizing: border-box;text-align: center;}#sk-container-id-4 label.sk-toggleable__label-arrow:before {content: \"▸\";float: left;margin-right: 0.25em;color: #696969;}#sk-container-id-4 label.sk-toggleable__label-arrow:hover:before {color: black;}#sk-container-id-4 div.sk-estimator:hover label.sk-toggleable__label-arrow:before {color: black;}#sk-container-id-4 div.sk-toggleable__content {max-height: 0;max-width: 0;overflow: hidden;text-align: left;background-color: #f0f8ff;}#sk-container-id-4 div.sk-toggleable__content pre {margin: 0.2em;color: black;border-radius: 0.25em;background-color: #f0f8ff;}#sk-container-id-4 input.sk-toggleable__control:checked~div.sk-toggleable__content {max-height: 200px;max-width: 100%;overflow: auto;}#sk-container-id-4 input.sk-toggleable__control:checked~label.sk-toggleable__label-arrow:before {content: \"▾\";}#sk-container-id-4 div.sk-estimator input.sk-toggleable__control:checked~label.sk-toggleable__label {background-color: #d4ebff;}#sk-container-id-4 div.sk-label input.sk-toggleable__control:checked~label.sk-toggleable__label {background-color: #d4ebff;}#sk-container-id-4 input.sk-hidden--visually {border: 0;clip: rect(1px 1px 1px 1px);clip: rect(1px, 1px, 1px, 1px);height: 1px;margin: -1px;overflow: hidden;padding: 0;position: absolute;width: 1px;}#sk-container-id-4 div.sk-estimator {font-family: monospace;background-color: #f0f8ff;border: 1px dotted black;border-radius: 0.25em;box-sizing: border-box;margin-bottom: 0.5em;}#sk-container-id-4 div.sk-estimator:hover {background-color: #d4ebff;}#sk-container-id-4 div.sk-parallel-item::after {content: \"\";width: 100%;border-bottom: 1px solid gray;flex-grow: 1;}#sk-container-id-4 div.sk-label:hover label.sk-toggleable__label {background-color: #d4ebff;}#sk-container-id-4 div.sk-serial::before {content: \"\";position: absolute;border-left: 1px solid gray;box-sizing: border-box;top: 0;bottom: 0;left: 50%;z-index: 0;}#sk-container-id-4 div.sk-serial {display: flex;flex-direction: column;align-items: center;background-color: white;padding-right: 0.2em;padding-left: 0.2em;position: relative;}#sk-container-id-4 div.sk-item {position: relative;z-index: 1;}#sk-container-id-4 div.sk-parallel {display: flex;align-items: stretch;justify-content: center;background-color: white;position: relative;}#sk-container-id-4 div.sk-item::before, #sk-container-id-4 div.sk-parallel-item::before {content: \"\";position: absolute;border-left: 1px solid gray;box-sizing: border-box;top: 0;bottom: 0;left: 50%;z-index: -1;}#sk-container-id-4 div.sk-parallel-item {display: flex;flex-direction: column;z-index: 1;position: relative;background-color: white;}#sk-container-id-4 div.sk-parallel-item:first-child::after {align-self: flex-end;width: 50%;}#sk-container-id-4 div.sk-parallel-item:last-child::after {align-self: flex-start;width: 50%;}#sk-container-id-4 div.sk-parallel-item:only-child::after {width: 0;}#sk-container-id-4 div.sk-dashed-wrapped {border: 1px dashed gray;margin: 0 0.4em 0.5em 0.4em;box-sizing: border-box;padding-bottom: 0.4em;background-color: white;}#sk-container-id-4 div.sk-label label {font-family: monospace;font-weight: bold;display: inline-block;line-height: 1.2em;}#sk-container-id-4 div.sk-label-container {text-align: center;}#sk-container-id-4 div.sk-container {/* jupyter's `normalize.less` sets `[hidden] { display: none; }` but bootstrap.min.css set `[hidden] { display: none !important; }` so we also need the `!important` here to be able to override the default hidden behavior on the sphinx rendered scikit-learn.org. See: https://github.com/scikit-learn/scikit-learn/issues/21755 */display: inline-block !important;position: relative;}#sk-container-id-4 div.sk-text-repr-fallback {display: none;}</style><div id=\"sk-container-id-4\" class=\"sk-top-container\"><div class=\"sk-text-repr-fallback\"><pre>DecisionTreeClassifier()</pre><b>In a Jupyter environment, please rerun this cell to show the HTML representation or trust the notebook. <br />On GitHub, the HTML representation is unable to render, please try loading this page with nbviewer.org.</b></div><div class=\"sk-container\" hidden><div class=\"sk-item\"><div class=\"sk-estimator sk-toggleable\"><input class=\"sk-toggleable__control sk-hidden--visually\" id=\"sk-estimator-id-4\" type=\"checkbox\" checked><label for=\"sk-estimator-id-4\" class=\"sk-toggleable__label sk-toggleable__label-arrow\">DecisionTreeClassifier</label><div class=\"sk-toggleable__content\"><pre>DecisionTreeClassifier()</pre></div></div></div></div></div>"
      ],
      "text/plain": [
       "DecisionTreeClassifier()"
      ]
     },
     "execution_count": 48,
     "metadata": {},
     "output_type": "execute_result"
    }
   ],
   "source": [
    "# desicion tree\n",
    "from sklearn.tree import DecisionTreeClassifier\n",
    "\n",
    "# Split the data\n",
    "x_train, x_test, y_train, y_test = train_test_split(count_matrix, y, test_size=0.2, random_state=42)\n",
    "\n",
    "# Create and train the model\n",
    "decision_tree = DecisionTreeClassifier()\n",
    "decision_tree.fit(x_train, y_train)"
   ]
  },
  {
   "cell_type": "code",
   "execution_count": 49,
   "metadata": {},
   "outputs": [
    {
     "name": "stdout",
     "output_type": "stream",
     "text": [
      "              precision    recall  f1-score   support\n",
      "\n",
      "      آس پاس       0.27      0.30      0.29       208\n",
      "       سائنس       0.17      0.23      0.20       184\n",
      "    فن فنکار       0.58      0.44      0.50       181\n",
      "        ورلڈ       0.30      0.28      0.29       176\n",
      "     پاکستان       0.49      0.48      0.49       204\n",
      "        کھیل       0.75      0.60      0.67       199\n",
      "\n",
      "    accuracy                           0.39      1152\n",
      "   macro avg       0.43      0.39      0.40      1152\n",
      "weighted avg       0.43      0.39      0.41      1152\n",
      "\n"
     ]
    }
   ],
   "source": [
    "# calssification report of decision tree\n",
    "y_pred_dt = decision_tree.predict(x_test)\n",
    "\n",
    "# Evaluate and print the classification report\n",
    "decision_tree_report = classification_report(y_test, y_pred_dt, zero_division=1)\n",
    "print(decision_tree_report)\n"
   ]
  },
  {
   "cell_type": "code",
   "execution_count": 50,
   "metadata": {},
   "outputs": [
    {
     "data": {
      "text/html": [
       "<style>#sk-container-id-5 {color: black;}#sk-container-id-5 pre{padding: 0;}#sk-container-id-5 div.sk-toggleable {background-color: white;}#sk-container-id-5 label.sk-toggleable__label {cursor: pointer;display: block;width: 100%;margin-bottom: 0;padding: 0.3em;box-sizing: border-box;text-align: center;}#sk-container-id-5 label.sk-toggleable__label-arrow:before {content: \"▸\";float: left;margin-right: 0.25em;color: #696969;}#sk-container-id-5 label.sk-toggleable__label-arrow:hover:before {color: black;}#sk-container-id-5 div.sk-estimator:hover label.sk-toggleable__label-arrow:before {color: black;}#sk-container-id-5 div.sk-toggleable__content {max-height: 0;max-width: 0;overflow: hidden;text-align: left;background-color: #f0f8ff;}#sk-container-id-5 div.sk-toggleable__content pre {margin: 0.2em;color: black;border-radius: 0.25em;background-color: #f0f8ff;}#sk-container-id-5 input.sk-toggleable__control:checked~div.sk-toggleable__content {max-height: 200px;max-width: 100%;overflow: auto;}#sk-container-id-5 input.sk-toggleable__control:checked~label.sk-toggleable__label-arrow:before {content: \"▾\";}#sk-container-id-5 div.sk-estimator input.sk-toggleable__control:checked~label.sk-toggleable__label {background-color: #d4ebff;}#sk-container-id-5 div.sk-label input.sk-toggleable__control:checked~label.sk-toggleable__label {background-color: #d4ebff;}#sk-container-id-5 input.sk-hidden--visually {border: 0;clip: rect(1px 1px 1px 1px);clip: rect(1px, 1px, 1px, 1px);height: 1px;margin: -1px;overflow: hidden;padding: 0;position: absolute;width: 1px;}#sk-container-id-5 div.sk-estimator {font-family: monospace;background-color: #f0f8ff;border: 1px dotted black;border-radius: 0.25em;box-sizing: border-box;margin-bottom: 0.5em;}#sk-container-id-5 div.sk-estimator:hover {background-color: #d4ebff;}#sk-container-id-5 div.sk-parallel-item::after {content: \"\";width: 100%;border-bottom: 1px solid gray;flex-grow: 1;}#sk-container-id-5 div.sk-label:hover label.sk-toggleable__label {background-color: #d4ebff;}#sk-container-id-5 div.sk-serial::before {content: \"\";position: absolute;border-left: 1px solid gray;box-sizing: border-box;top: 0;bottom: 0;left: 50%;z-index: 0;}#sk-container-id-5 div.sk-serial {display: flex;flex-direction: column;align-items: center;background-color: white;padding-right: 0.2em;padding-left: 0.2em;position: relative;}#sk-container-id-5 div.sk-item {position: relative;z-index: 1;}#sk-container-id-5 div.sk-parallel {display: flex;align-items: stretch;justify-content: center;background-color: white;position: relative;}#sk-container-id-5 div.sk-item::before, #sk-container-id-5 div.sk-parallel-item::before {content: \"\";position: absolute;border-left: 1px solid gray;box-sizing: border-box;top: 0;bottom: 0;left: 50%;z-index: -1;}#sk-container-id-5 div.sk-parallel-item {display: flex;flex-direction: column;z-index: 1;position: relative;background-color: white;}#sk-container-id-5 div.sk-parallel-item:first-child::after {align-self: flex-end;width: 50%;}#sk-container-id-5 div.sk-parallel-item:last-child::after {align-self: flex-start;width: 50%;}#sk-container-id-5 div.sk-parallel-item:only-child::after {width: 0;}#sk-container-id-5 div.sk-dashed-wrapped {border: 1px dashed gray;margin: 0 0.4em 0.5em 0.4em;box-sizing: border-box;padding-bottom: 0.4em;background-color: white;}#sk-container-id-5 div.sk-label label {font-family: monospace;font-weight: bold;display: inline-block;line-height: 1.2em;}#sk-container-id-5 div.sk-label-container {text-align: center;}#sk-container-id-5 div.sk-container {/* jupyter's `normalize.less` sets `[hidden] { display: none; }` but bootstrap.min.css set `[hidden] { display: none !important; }` so we also need the `!important` here to be able to override the default hidden behavior on the sphinx rendered scikit-learn.org. See: https://github.com/scikit-learn/scikit-learn/issues/21755 */display: inline-block !important;position: relative;}#sk-container-id-5 div.sk-text-repr-fallback {display: none;}</style><div id=\"sk-container-id-5\" class=\"sk-top-container\"><div class=\"sk-text-repr-fallback\"><pre>RandomForestClassifier()</pre><b>In a Jupyter environment, please rerun this cell to show the HTML representation or trust the notebook. <br />On GitHub, the HTML representation is unable to render, please try loading this page with nbviewer.org.</b></div><div class=\"sk-container\" hidden><div class=\"sk-item\"><div class=\"sk-estimator sk-toggleable\"><input class=\"sk-toggleable__control sk-hidden--visually\" id=\"sk-estimator-id-5\" type=\"checkbox\" checked><label for=\"sk-estimator-id-5\" class=\"sk-toggleable__label sk-toggleable__label-arrow\">RandomForestClassifier</label><div class=\"sk-toggleable__content\"><pre>RandomForestClassifier()</pre></div></div></div></div></div>"
      ],
      "text/plain": [
       "RandomForestClassifier()"
      ]
     },
     "execution_count": 50,
     "metadata": {},
     "output_type": "execute_result"
    }
   ],
   "source": [
    "# Random Forest\n",
    "from sklearn.ensemble import RandomForestClassifier\n",
    "\n",
    "# Split the data\n",
    "x_train, x_test, y_train, y_test = train_test_split(count_matrix, y, test_size=0.2, random_state=42)\n",
    "\n",
    "# Create and train the model\n",
    "random_forest = RandomForestClassifier()\n",
    "random_forest.fit(x_train, y_train)\n"
   ]
  },
  {
   "cell_type": "code",
   "execution_count": 51,
   "metadata": {},
   "outputs": [
    {
     "name": "stdout",
     "output_type": "stream",
     "text": [
      "              precision    recall  f1-score   support\n",
      "\n",
      "      آس پاس       0.34      0.29      0.31       208\n",
      "       سائنس       0.18      0.30      0.23       184\n",
      "    فن فنکار       0.61      0.46      0.52       181\n",
      "        ورلڈ       0.36      0.31      0.34       176\n",
      "     پاکستان       0.52      0.52      0.52       204\n",
      "        کھیل       0.77      0.66      0.71       199\n",
      "\n",
      "    accuracy                           0.43      1152\n",
      "   macro avg       0.46      0.42      0.44      1152\n",
      "weighted avg       0.46      0.43      0.44      1152\n",
      "\n"
     ]
    }
   ],
   "source": [
    "# classification report of random forest\n",
    "y_pred_rf = random_forest.predict(x_test)\n",
    "\n",
    "# Evaluate and print the classification report\n",
    "random_forest_report = classification_report(y_test, y_pred_rf, zero_division=1)\n",
    "print(random_forest_report)"
   ]
  },
  {
   "cell_type": "code",
   "execution_count": 52,
   "metadata": {},
   "outputs": [
    {
     "data": {
      "text/html": [
       "<style>#sk-container-id-6 {color: black;}#sk-container-id-6 pre{padding: 0;}#sk-container-id-6 div.sk-toggleable {background-color: white;}#sk-container-id-6 label.sk-toggleable__label {cursor: pointer;display: block;width: 100%;margin-bottom: 0;padding: 0.3em;box-sizing: border-box;text-align: center;}#sk-container-id-6 label.sk-toggleable__label-arrow:before {content: \"▸\";float: left;margin-right: 0.25em;color: #696969;}#sk-container-id-6 label.sk-toggleable__label-arrow:hover:before {color: black;}#sk-container-id-6 div.sk-estimator:hover label.sk-toggleable__label-arrow:before {color: black;}#sk-container-id-6 div.sk-toggleable__content {max-height: 0;max-width: 0;overflow: hidden;text-align: left;background-color: #f0f8ff;}#sk-container-id-6 div.sk-toggleable__content pre {margin: 0.2em;color: black;border-radius: 0.25em;background-color: #f0f8ff;}#sk-container-id-6 input.sk-toggleable__control:checked~div.sk-toggleable__content {max-height: 200px;max-width: 100%;overflow: auto;}#sk-container-id-6 input.sk-toggleable__control:checked~label.sk-toggleable__label-arrow:before {content: \"▾\";}#sk-container-id-6 div.sk-estimator input.sk-toggleable__control:checked~label.sk-toggleable__label {background-color: #d4ebff;}#sk-container-id-6 div.sk-label input.sk-toggleable__control:checked~label.sk-toggleable__label {background-color: #d4ebff;}#sk-container-id-6 input.sk-hidden--visually {border: 0;clip: rect(1px 1px 1px 1px);clip: rect(1px, 1px, 1px, 1px);height: 1px;margin: -1px;overflow: hidden;padding: 0;position: absolute;width: 1px;}#sk-container-id-6 div.sk-estimator {font-family: monospace;background-color: #f0f8ff;border: 1px dotted black;border-radius: 0.25em;box-sizing: border-box;margin-bottom: 0.5em;}#sk-container-id-6 div.sk-estimator:hover {background-color: #d4ebff;}#sk-container-id-6 div.sk-parallel-item::after {content: \"\";width: 100%;border-bottom: 1px solid gray;flex-grow: 1;}#sk-container-id-6 div.sk-label:hover label.sk-toggleable__label {background-color: #d4ebff;}#sk-container-id-6 div.sk-serial::before {content: \"\";position: absolute;border-left: 1px solid gray;box-sizing: border-box;top: 0;bottom: 0;left: 50%;z-index: 0;}#sk-container-id-6 div.sk-serial {display: flex;flex-direction: column;align-items: center;background-color: white;padding-right: 0.2em;padding-left: 0.2em;position: relative;}#sk-container-id-6 div.sk-item {position: relative;z-index: 1;}#sk-container-id-6 div.sk-parallel {display: flex;align-items: stretch;justify-content: center;background-color: white;position: relative;}#sk-container-id-6 div.sk-item::before, #sk-container-id-6 div.sk-parallel-item::before {content: \"\";position: absolute;border-left: 1px solid gray;box-sizing: border-box;top: 0;bottom: 0;left: 50%;z-index: -1;}#sk-container-id-6 div.sk-parallel-item {display: flex;flex-direction: column;z-index: 1;position: relative;background-color: white;}#sk-container-id-6 div.sk-parallel-item:first-child::after {align-self: flex-end;width: 50%;}#sk-container-id-6 div.sk-parallel-item:last-child::after {align-self: flex-start;width: 50%;}#sk-container-id-6 div.sk-parallel-item:only-child::after {width: 0;}#sk-container-id-6 div.sk-dashed-wrapped {border: 1px dashed gray;margin: 0 0.4em 0.5em 0.4em;box-sizing: border-box;padding-bottom: 0.4em;background-color: white;}#sk-container-id-6 div.sk-label label {font-family: monospace;font-weight: bold;display: inline-block;line-height: 1.2em;}#sk-container-id-6 div.sk-label-container {text-align: center;}#sk-container-id-6 div.sk-container {/* jupyter's `normalize.less` sets `[hidden] { display: none; }` but bootstrap.min.css set `[hidden] { display: none !important; }` so we also need the `!important` here to be able to override the default hidden behavior on the sphinx rendered scikit-learn.org. See: https://github.com/scikit-learn/scikit-learn/issues/21755 */display: inline-block !important;position: relative;}#sk-container-id-6 div.sk-text-repr-fallback {display: none;}</style><div id=\"sk-container-id-6\" class=\"sk-top-container\"><div class=\"sk-text-repr-fallback\"><pre>SVC()</pre><b>In a Jupyter environment, please rerun this cell to show the HTML representation or trust the notebook. <br />On GitHub, the HTML representation is unable to render, please try loading this page with nbviewer.org.</b></div><div class=\"sk-container\" hidden><div class=\"sk-item\"><div class=\"sk-estimator sk-toggleable\"><input class=\"sk-toggleable__control sk-hidden--visually\" id=\"sk-estimator-id-6\" type=\"checkbox\" checked><label for=\"sk-estimator-id-6\" class=\"sk-toggleable__label sk-toggleable__label-arrow\">SVC</label><div class=\"sk-toggleable__content\"><pre>SVC()</pre></div></div></div></div></div>"
      ],
      "text/plain": [
       "SVC()"
      ]
     },
     "execution_count": 52,
     "metadata": {},
     "output_type": "execute_result"
    }
   ],
   "source": [
    "#support vector machine svm\n",
    "from sklearn.svm import SVC\n",
    "\n",
    "# Split the data\n",
    "x_train, x_test, y_train, y_test = train_test_split(count_matrix, y, test_size=0.2, random_state=42)\n",
    "\n",
    "# Create and train the model\n",
    "svm_classifier = SVC()\n",
    "svm_classifier.fit(x_train, y_train)"
   ]
  },
  {
   "cell_type": "code",
   "execution_count": 53,
   "metadata": {},
   "outputs": [
    {
     "name": "stdout",
     "output_type": "stream",
     "text": [
      "              precision    recall  f1-score   support\n",
      "\n",
      "      آس پاس       0.38      0.35      0.36       208\n",
      "       سائنس       0.25      0.32      0.28       184\n",
      "    فن فنکار       0.58      0.63      0.60       181\n",
      "        ورلڈ       0.38      0.36      0.37       176\n",
      "     پاکستان       0.55      0.55      0.55       204\n",
      "        کھیل       0.79      0.60      0.68       199\n",
      "\n",
      "    accuracy                           0.47      1152\n",
      "   macro avg       0.49      0.47      0.48      1152\n",
      "weighted avg       0.49      0.47      0.48      1152\n",
      "\n"
     ]
    }
   ],
   "source": [
    "# support vector machines classification report\n",
    "y_pred_svm = svm_classifier.predict(x_test)\n",
    "\n",
    "# Evaluate and print the classification report\n",
    "svm_report = classification_report(y_test, y_pred_svm, zero_division=1)\n",
    "print(svm_report)\n"
   ]
  }
 ],
 "metadata": {
  "kernelspec": {
   "display_name": "Python 3 (ipykernel)",
   "language": "python",
   "name": "python3"
  },
  "language_info": {
   "codemirror_mode": {
    "name": "ipython",
    "version": 3
   },
   "file_extension": ".py",
   "mimetype": "text/x-python",
   "name": "python",
   "nbconvert_exporter": "python",
   "pygments_lexer": "ipython3",
   "version": "3.11.5"
  }
 },
 "nbformat": 4,
 "nbformat_minor": 2
}
