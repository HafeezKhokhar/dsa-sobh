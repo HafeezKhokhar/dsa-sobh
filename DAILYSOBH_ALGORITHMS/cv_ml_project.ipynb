{
 "cells": [
  {
   "cell_type": "code",
   "execution_count": 1,
   "metadata": {},
   "outputs": [],
   "source": [
    "import pandas as pd\n",
    "import re\n",
    "\n",
    "import matplotlib as plt\n",
    "\n",
    "from sklearn.model_selection import train_test_split\n",
    "from sklearn.metrics import confusion_matrix, classification_report, f1_score"
   ]
  },
  {
   "cell_type": "code",
   "execution_count": 2,
   "metadata": {},
   "outputs": [
    {
     "data": {
      "text/html": [
       "<div>\n",
       "<style scoped>\n",
       "    .dataframe tbody tr th:only-of-type {\n",
       "        vertical-align: middle;\n",
       "    }\n",
       "\n",
       "    .dataframe tbody tr th {\n",
       "        vertical-align: top;\n",
       "    }\n",
       "\n",
       "    .dataframe thead th {\n",
       "        text-align: right;\n",
       "    }\n",
       "</style>\n",
       "<table border=\"1\" class=\"dataframe\">\n",
       "  <thead>\n",
       "    <tr style=\"text-align: right;\">\n",
       "      <th></th>\n",
       "      <th>Title</th>\n",
       "      <th>Topic</th>\n",
       "      <th>Link</th>\n",
       "    </tr>\n",
       "  </thead>\n",
       "  <tbody>\n",
       "    <tr>\n",
       "      <th>0</th>\n",
       "      <td>شاهد خاقان عباسي جو نالو اي سي ايل مان ڪڍڻ جو حڪم</td>\n",
       "      <td>عدالتون</td>\n",
       "      <td>https://dailysobh.com/archives/108793</td>\n",
       "    </tr>\n",
       "    <tr>\n",
       "      <th>1</th>\n",
       "      <td>جيڪو ٿئي پيو سو تڪليف ڏيندڙ آهي، پنجاب اسان جي...</td>\n",
       "      <td>عدالتون</td>\n",
       "      <td>https://dailysobh.com/archives/79976</td>\n",
       "    </tr>\n",
       "    <tr>\n",
       "      <th>2</th>\n",
       "      <td>سنڌ ثقافتي ورثي جو تحفظ ناهي ڪري سگهيو، مڪلي ۽...</td>\n",
       "      <td>عدالتون</td>\n",
       "      <td>https://dailysobh.com/archives/79960</td>\n",
       "    </tr>\n",
       "    <tr>\n",
       "      <th>3</th>\n",
       "      <td>سپريم ڪورٽ پاران پوليس اهلڪار کي بحال ڪرڻ وارو...</td>\n",
       "      <td>عدالتون</td>\n",
       "      <td>https://dailysobh.com/archives/79898</td>\n",
       "    </tr>\n",
       "    <tr>\n",
       "      <th>4</th>\n",
       "      <td>بينظير ڀٽو جي ورسي تي   سنڌ حڪومت  پاران اڄ  ع...</td>\n",
       "      <td>عدالتون</td>\n",
       "      <td>https://dailysobh.com/archives/79895</td>\n",
       "    </tr>\n",
       "  </tbody>\n",
       "</table>\n",
       "</div>"
      ],
      "text/plain": [
       "                                               Title    Topic  \\\n",
       "0  شاهد خاقان عباسي جو نالو اي سي ايل مان ڪڍڻ جو حڪم  عدالتون   \n",
       "1  جيڪو ٿئي پيو سو تڪليف ڏيندڙ آهي، پنجاب اسان جي...  عدالتون   \n",
       "2  سنڌ ثقافتي ورثي جو تحفظ ناهي ڪري سگهيو، مڪلي ۽...  عدالتون   \n",
       "3  سپريم ڪورٽ پاران پوليس اهلڪار کي بحال ڪرڻ وارو...  عدالتون   \n",
       "4  بينظير ڀٽو جي ورسي تي   سنڌ حڪومت  پاران اڄ  ع...  عدالتون   \n",
       "\n",
       "                                    Link  \n",
       "0  https://dailysobh.com/archives/108793  \n",
       "1   https://dailysobh.com/archives/79976  \n",
       "2   https://dailysobh.com/archives/79960  \n",
       "3   https://dailysobh.com/archives/79898  \n",
       "4   https://dailysobh.com/archives/79895  "
      ]
     },
     "execution_count": 2,
     "metadata": {},
     "output_type": "execute_result"
    }
   ],
   "source": [
    "data_set = pd.read_csv('daily_sobh_news.csv')\n",
    "data_set.head()"
   ]
  },
  {
   "cell_type": "code",
   "execution_count": 3,
   "metadata": {},
   "outputs": [
    {
     "data": {
      "text/html": [
       "<div>\n",
       "<style scoped>\n",
       "    .dataframe tbody tr th:only-of-type {\n",
       "        vertical-align: middle;\n",
       "    }\n",
       "\n",
       "    .dataframe tbody tr th {\n",
       "        vertical-align: top;\n",
       "    }\n",
       "\n",
       "    .dataframe thead th {\n",
       "        text-align: right;\n",
       "    }\n",
       "</style>\n",
       "<table border=\"1\" class=\"dataframe\">\n",
       "  <thead>\n",
       "    <tr style=\"text-align: right;\">\n",
       "      <th></th>\n",
       "      <th>Title</th>\n",
       "      <th>Topic</th>\n",
       "      <th>Link</th>\n",
       "    </tr>\n",
       "  </thead>\n",
       "  <tbody>\n",
       "    <tr>\n",
       "      <th>0</th>\n",
       "      <td>شاهد خاقان عباسي جو نالو اي سي ايل مان ڪڍڻ جو حڪم</td>\n",
       "      <td>عدالتون</td>\n",
       "      <td>https://dailysobh.com/archives/108793</td>\n",
       "    </tr>\n",
       "    <tr>\n",
       "      <th>1</th>\n",
       "      <td>جيڪو ٿئي پيو سو تڪليف ڏيندڙ آهي، پنجاب اسان جي...</td>\n",
       "      <td>عدالتون</td>\n",
       "      <td>https://dailysobh.com/archives/79976</td>\n",
       "    </tr>\n",
       "    <tr>\n",
       "      <th>2</th>\n",
       "      <td>سنڌ ثقافتي ورثي جو تحفظ ناهي ڪري سگهيو، مڪلي ۽...</td>\n",
       "      <td>عدالتون</td>\n",
       "      <td>https://dailysobh.com/archives/79960</td>\n",
       "    </tr>\n",
       "    <tr>\n",
       "      <th>3</th>\n",
       "      <td>سپريم ڪورٽ پاران پوليس اهلڪار کي بحال ڪرڻ وارو...</td>\n",
       "      <td>عدالتون</td>\n",
       "      <td>https://dailysobh.com/archives/79898</td>\n",
       "    </tr>\n",
       "    <tr>\n",
       "      <th>4</th>\n",
       "      <td>بينظير ڀٽو جي ورسي تي   سنڌ حڪومت  پاران اڄ  ع...</td>\n",
       "      <td>عدالتون</td>\n",
       "      <td>https://dailysobh.com/archives/79895</td>\n",
       "    </tr>\n",
       "    <tr>\n",
       "      <th>...</th>\n",
       "      <td>...</td>\n",
       "      <td>...</td>\n",
       "      <td>...</td>\n",
       "    </tr>\n",
       "    <tr>\n",
       "      <th>8571</th>\n",
       "      <td>پُر اعتماد انسان زندگي ۾ ڪجهه به حاصل ڪري سگهي...</td>\n",
       "      <td>شوبز</td>\n",
       "      <td>https://dailysobh.com/archives/50330</td>\n",
       "    </tr>\n",
       "    <tr>\n",
       "      <th>8572</th>\n",
       "      <td>گلوڪار فرحان سعيد ۽ اداڪاره عروه حسين راهون جد...</td>\n",
       "      <td>شوبز</td>\n",
       "      <td>https://dailysobh.com/archives/50202</td>\n",
       "    </tr>\n",
       "    <tr>\n",
       "      <th>8573</th>\n",
       "      <td>مسڪرائڻ سان ڪنهن به ڏک کي لڪائي سگهجي ٿو: صنم ...</td>\n",
       "      <td>شوبز</td>\n",
       "      <td>https://dailysobh.com/archives/50170</td>\n",
       "    </tr>\n",
       "    <tr>\n",
       "      <th>8574</th>\n",
       "      <td>شوبز  جي دنيا ۾ ڪيترن ئي سالن تائين هراسان ڪيو...</td>\n",
       "      <td>شوبز</td>\n",
       "      <td>https://dailysobh.com/archives/50148</td>\n",
       "    </tr>\n",
       "    <tr>\n",
       "      <th>8575</th>\n",
       "      <td>علي ظفر ۽ عروج فاطمه گڏجي سنڌي گيت ” الي منهنج...</td>\n",
       "      <td>شوبز</td>\n",
       "      <td>https://dailysobh.com/archives/49973</td>\n",
       "    </tr>\n",
       "  </tbody>\n",
       "</table>\n",
       "<p>8576 rows × 3 columns</p>\n",
       "</div>"
      ],
      "text/plain": [
       "                                                  Title    Topic  \\\n",
       "0     شاهد خاقان عباسي جو نالو اي سي ايل مان ڪڍڻ جو حڪم  عدالتون   \n",
       "1     جيڪو ٿئي پيو سو تڪليف ڏيندڙ آهي، پنجاب اسان جي...  عدالتون   \n",
       "2     سنڌ ثقافتي ورثي جو تحفظ ناهي ڪري سگهيو، مڪلي ۽...  عدالتون   \n",
       "3     سپريم ڪورٽ پاران پوليس اهلڪار کي بحال ڪرڻ وارو...  عدالتون   \n",
       "4     بينظير ڀٽو جي ورسي تي   سنڌ حڪومت  پاران اڄ  ع...  عدالتون   \n",
       "...                                                 ...      ...   \n",
       "8571  پُر اعتماد انسان زندگي ۾ ڪجهه به حاصل ڪري سگهي...     شوبز   \n",
       "8572  گلوڪار فرحان سعيد ۽ اداڪاره عروه حسين راهون جد...     شوبز   \n",
       "8573  مسڪرائڻ سان ڪنهن به ڏک کي لڪائي سگهجي ٿو: صنم ...     شوبز   \n",
       "8574  شوبز  جي دنيا ۾ ڪيترن ئي سالن تائين هراسان ڪيو...     شوبز   \n",
       "8575  علي ظفر ۽ عروج فاطمه گڏجي سنڌي گيت ” الي منهنج...     شوبز   \n",
       "\n",
       "                                       Link  \n",
       "0     https://dailysobh.com/archives/108793  \n",
       "1      https://dailysobh.com/archives/79976  \n",
       "2      https://dailysobh.com/archives/79960  \n",
       "3      https://dailysobh.com/archives/79898  \n",
       "4      https://dailysobh.com/archives/79895  \n",
       "...                                     ...  \n",
       "8571   https://dailysobh.com/archives/50330  \n",
       "8572   https://dailysobh.com/archives/50202  \n",
       "8573   https://dailysobh.com/archives/50170  \n",
       "8574   https://dailysobh.com/archives/50148  \n",
       "8575   https://dailysobh.com/archives/49973  \n",
       "\n",
       "[8576 rows x 3 columns]"
      ]
     },
     "execution_count": 3,
     "metadata": {},
     "output_type": "execute_result"
    }
   ],
   "source": [
    "data_set.dropna()"
   ]
  },
  {
   "cell_type": "code",
   "execution_count": 4,
   "metadata": {},
   "outputs": [
    {
     "data": {
      "text/plain": [
       "(8576, 3)"
      ]
     },
     "execution_count": 4,
     "metadata": {},
     "output_type": "execute_result"
    }
   ],
   "source": [
    "data_set.shape"
   ]
  },
  {
   "cell_type": "code",
   "execution_count": 5,
   "metadata": {},
   "outputs": [
    {
     "name": "stdout",
     "output_type": "stream",
     "text": [
      "0\n"
     ]
    }
   ],
   "source": [
    "print(data_set['Title'].isna().sum())\n"
   ]
  },
  {
   "cell_type": "code",
   "execution_count": 35,
   "metadata": {},
   "outputs": [],
   "source": [
    "data_set['Title'] = data_set['Title'].fillna('')\n",
    "data_set['Topic'] = data_set['Topic'].fillna('')\n"
   ]
  },
  {
   "cell_type": "code",
   "execution_count": 6,
   "metadata": {},
   "outputs": [
    {
     "name": "stdout",
     "output_type": "stream",
     "text": [
      "['اهو', 'ته', '،', 'ٿي', 'اچو،', 'جي', 'کي', 'ٻڌاءِ،', 'آهي', 'وڃڻ', 'شو', 'تون', 'ٿيو', 'جو', 'مون', 'ضرور', 'تنهنجي', 'ڳولهيو', 'کوليو،', 'به', 'توهان', 'اسان', 'پر', 'هئين،', 'ڪنهن', 'ڪڏھن', 'ٿو', 'آهي،', 'چڪو', '۽', 'ان', '۾', 'ڇو', 'ويا،', 'ڪرڻ', 'هوندو،', 'کولڻ،', 'نه', 'انهن', 'هلون', 'سگهي', 'کولڻ', 'مان', 'آهن', 'اهي', 'ڪري', 'کان', 'اچو', 'ڇا', 'ڪيئن', 'ڏيئو', 'گهرجي،', 'پوءِ', 'ويو', 'چيو', 'هڪ', 'لڳي', 'ناهي', 'پاسي', 'رکڻ', 'ٻئي', 'ڏنو،', 'پڇڻ', 'طريقا', 'هوندو', 'سان', 'هن', 'تمام', 'بابت', 'هي', 'هئي', 'ائين', 'منهنجو', 'ذريعي', 'ڇاڪاڻ', 'چئجي', 'ٿا', 'سڀ', 'جڏهن', 'ڪو', 'ٿيڻ', 'جيستائين،', 'ڪيس', 'بنا', 'ويندو', 'تي', 'هليا', 'هو', 'سندس', 'باوجود', 'آيا', 'لاءِ', 'رهيو', 'هر', 'هيٺ', 'اڪثر', 'هو،', 'ورتو،', 'وڌيڪ', 'وچ', 'ڏنو', 'واچ', 'ڏي', 'ڪيو', 'هاڻي', 'بدران', 'ٿورڙو', 'سوچيو،', 'دلچسپيون', 'شيون', 'حقيقتون', 'گهربل', 'مسئلا', 'خبر', 'گڏجي', 'هاءِ', 'سٺو', 'تنهنجو', 'دوران', 'اور', 'هيس', 'رهيا', 'بنجي', 'هلي', 'ورتو', 'ها', 'مليا', 'جا', 'عنوان', 'بعد', 'هوندي', 'اتي', 'علاوه', 'هتي', 'تنهن', 'سو', 'سواءِ', 'ويا', 'اي', 'جتي', 'ساڳيا', 'جيئن', 'پنهنجي', 'جيتوڻيڪ،', 'جيتوڻيڪ', 'اهڙي', 'بار', 'ڪي', 'ٻاهريون', 'آهن،', 'اڏاوت', 'جي،', 'ڀرجڻ', 'مشڪل', 'هئين', 'آڻڻ', 'مناسب', '۾،', 'ڏسڻ', 'سبب', 'هلون،', 'پيسڻ', 'ڪم', 'وقت', 'بوقت', 'ڪجهه', 'گهٽ', 'ٿيندو،', 'ويندو،', 'ها،', 'هرڪو', 'جيڪي', 'ڏئي', 'ڏيڻ', 'ٻاهر', 'اچن', 'وڃي', 'طرف', 'هئا', 'سِڪَ', 'ٽي', 'ڄاڻڻ', 'اٿڻ', 'سوچيو', 'ڪر', 'ڏيکاريون', 'تازو', 'حصا', 'ڳولهڻ', 'مڪمل', 'سلسلو', 'گهڻو', 'ڊگھي،،', 'ڊگھو،،', 'ڪريان،', 'ماڻهن', 'اڪيلو', 'الڳ', 'گهرجي', 'اهڙو', 'بند', 'جهڙو', 'پڇي', 'ننڍو', 'الف', 'سندن', 'آ', 'باب', 'ويندا', 'وغيره', 'رهن', 'ايندي', 'جاري', 'اتان', 'منهنجي', 'اول', 'بن', 'هلندو', 'هليو', 'لفظ', 'بي', 'ترجمو', 'هنن', 'هيل', 'ون', 'مطلب', 'رهندا', 'هجن', 'نهايت', 'اسين', 'هوس', 'مثال', 'نالو', 'ورتي', 'ويون', 'صفحو', 'جنهن', 'آءُ', 'نالا', 'ايندو', 'تائين', 'بهرحال', 'خود', 'وڃ', 'ايترو', 'وارن', 'تن', 'ناهن', 'جيان', 'نالي', 'يا', 'ڪجن', 'آيو', 'هيا', 'بس', 'واري', 'نيند', 'هتان', 'تان', 'رهندي', 'ثابت', 'اها', 'هوند', 'وجهي', 'تو', 'ملڻ', 'جيڪر', 'يعني', 'هئس', 'هونديون', 'معني', 'ويندي', 'احوال', 'رهيون', 'اوهان', 'جن', 'آند', 'وارا', 'واريون', 'باري', 'هيون', 'ملن', 'مليو', 'صرف', 'وري', 'آيس', 'ملندو', 'جلد', 'سي', 'رهي', 'جول', 'جتان', 'اڻهوند', 'وارين', 'وي', 'هيو', 'آيل', 'حوالو', 'ويهي', 'هجي', 'رهه', 'هيڪر', 'ايندا', 'فقط', 'وارو', 'م', '', 'لاء', 'جيئڻ', 'صحيح', 'معنيٰ', 'جيئڻ،', 'ٻين', 'ڏيکاريو،', 'رکيل', 'وغيره،', 'اُتي', 'ساڳيو،', 'ساڳيو', 'رستو', 'مليو،', 'واپس', 'چاهيو،', 'وڃو،', 'گهڻا', 'هوندا،', 'سڀني', 'ڳائيندا', 'کي،', 'اندر،', 'شايد', 'هئاسين،', 'ٿو،', 'ويس', 'وڃان', 'گڏ', 'ويس،', 'رکي', 'ڇڏيندس', 'ڳالهائڻ', 'روانا', 'اسٽاپ', 'پسند', 'ڏيو،', 'قابل', 'ڏيو', 'سوچڻ', 'ٺاهڻ', 'ويچارو', 'ڏسبو', 'اصل', 'ننڍي', 'ڄاڻن،', 'پڇن', 'ٿا،', 'روڪ', 'سڌو', 'ٻڌايو،', 'ٻڌاءِ', 'سڄو', 'سال', 'ڏيکاريو', 'ٻه', 'سيڪنڊ', 'نمبر', 'عظيم', 'علائقا', 'موجوده', 'حالتون', 'حاصل', 'ڪريو', 'آرڊر', 'نيو', 'جنگيون', 'استعمال', 'ٿيل', 'مطلق', 'ڄاڻن', 'ممڪن', 'ممڪنات', 'پڇو', 'پهريون', 'اڳ', 'موجود', 'اڳ-آرڊر', 'نمبرن', 'لڳ', 'ڀڳ', 'ئي', 'جيڪو', 'وقت،', 'بيهو،', 'ڏينهن،', 'ڊگھو،', 'ڊگهو', 'پراڻو', 'ڪجي', 'چوڌاري', 'سچا', 'صفر', 'ھيٺين', 'ڪھڙو', 'عام', 'آھي', 'ھڪڙو', 'نابالغ', 'علائقي', 'ھڪڙي', 'وباء', 'جو؟', 'خواتين', 'حضرات،', 'مختلف', 'محسوس', 'وٺو', 'موڙيندڙ', 'موڙ', 'مڙيل', 'مهرباني', 'قسم', 'منهنجا', 'نوان', 'لمحا،', 'ماڻهو،', 'ڇوڪرو', 'وٺي', 'وڃو', 'ڊفالٽ', 'هلڻ', 'ظاهر', 'گُني', 'پڻ', 'ٻيون', 'پنهنجو', 'لڳڻ', 'اُنهن', 'ٻاهران', 'اندر', 'ايم', 'پيو', 'واندو', 'ت', 'رهڻ', 'اچڻ', 'بغير', 'ذريعو', 'بران', 'بلڪه', 'ٻيا', 'ڪيلي', 'رکو', 'ڪھڙي', 'انهي', 'پپيتا', 'جوکيو', 'پويون', 'دير', 'درجا', 'هوءَ', 'بنارا', 'حيثيت', 'ڄاڻي', 'تخليق', 'سوچ', 'سطحون', 'ننڍڙا', 'اهم', 'پڄاڻي', 'بنجڻ', 'سکڻ', 'ڪافي', 'هجڻ', 'پل', 'ٺهيل', 'اسڪي', 'مضبوط', 'پورو', 'پوٺو', 'نارها', 'اونائي', 'اجازت', 'سِڪو', 'در', 'بناڙي', 'ٽوئيٽر', 'بڻجي', '', 'لکيو', 'ٿي', 'پهچي', 'مظاهرو', 'ملڻ', 'ورتي', 'نالو', 'وارو', 'ايف', 'پاران', 'ڪيون', 'ون', '', 'کيڏڻ', 'اجازت', 'سڄي', 'علڪن', 'دوري', 'ٽن', 'ٽيمن', 'آخري', 'شروعات', 'وٽ', 'هائوس', 'واٽس', 'ناهي', 'ڪڏهن', 'ظاهر', 'ٻيهر', 'منهنجي', 'گهٽ', 'اچڻ', 'ويندي', 'وڏو', '', 'ترين', 'پنهنجو', 'وارن\\r\\n\\r\\n']\n"
     ]
    }
   ],
   "source": [
    "import requests\n",
    "\n",
    "github_file_url = \"https://raw.githubusercontent.com/AliNawazUoB/sindhi-TPTS/main/Sindhi%20language%20high%20frequency%20522%20stop-words.txt\"\n",
    "\n",
    "response = requests.get(github_file_url)\n",
    "\n",
    "if response.status_code == 200:\n",
    "    content = response.text\n",
    "    stop_words = content.split(\" \")\n",
    "    print(stop_words)\n",
    "else:\n",
    "    print(f\"Failed to fetch file from GitHub. Status code: {response.status_code}\")\n"
   ]
  },
  {
   "cell_type": "code",
   "execution_count": 8,
   "metadata": {},
   "outputs": [],
   "source": [
    "data_set['Title'] = data_set['Title'].apply(lambda x: ' '.join([word for word in x.split() if word not in (stop_words)]))"
   ]
  },
  {
   "cell_type": "code",
   "execution_count": 9,
   "metadata": {},
   "outputs": [
    {
     "name": "stdout",
     "output_type": "stream",
     "text": [
      "0                            شاهد خاقان عباسي ايل ڪڍڻ حڪم\n",
      "1       ٿئي تڪليف ڏيندڙ پنجاب اختيار ن دائري آهي:هاءِ ...\n",
      "2       سنڌ ثقافتي ورثي تحفظ سگهيو، مڪلي موھن دڙي تھ ر...\n",
      "3                 سپريم ڪورٽ پوليس اهلڪار بحال فيصلو معطل\n",
      "4                 بينظير ڀٽو ورسي سنڌ حڪومت اڄ موڪل اعلان\n",
      "                              ...                        \n",
      "8571               پُر اعتماد انسان زندگي ٿو: شهريار منور\n",
      "8572    گلوڪار فرحان سعيد اداڪاره عروه حسين راهون جدا ...\n",
      "8573                 مسڪرائڻ ڏک لڪائي سگهجي ٿو: صنم ماروي\n",
      "8574    شوبز دنيا ڪيترن سالن هراسان ويو: عائشه عمر انڪشاف\n",
      "8575    علي ظفر عروج فاطمه سنڌي گيت ” الي ماروئڙا“ تيا...\n",
      "Name: Title, Length: 8576, dtype: object\n"
     ]
    }
   ],
   "source": [
    "print(data_set['Title'])"
   ]
  },
  {
   "cell_type": "code",
   "execution_count": 10,
   "metadata": {},
   "outputs": [],
   "source": [
    "# removing special characters\n",
    "import re\n",
    "\n",
    "pattern = r'[!@#$%^&*(){};:,.<>\\\"|+=~`-]‘’،؟'\n",
    "data_set['Title'] = data_set['Title'].apply(lambda x: re.sub(pattern, '', x) if isinstance(x, str) else '')"
   ]
  },
  {
   "cell_type": "code",
   "execution_count": 11,
   "metadata": {},
   "outputs": [
    {
     "name": "stdout",
     "output_type": "stream",
     "text": [
      "0                            شاهد خاقان عباسي ايل ڪڍڻ حڪم\n",
      "1       ٿئي تڪليف ڏيندڙ پنجاب اختيار ن دائري آهي:هاءِ ...\n",
      "2       سنڌ ثقافتي ورثي تحفظ سگهيو، مڪلي موھن دڙي تھ ر...\n",
      "3                 سپريم ڪورٽ پوليس اهلڪار بحال فيصلو معطل\n",
      "4                 بينظير ڀٽو ورسي سنڌ حڪومت اڄ موڪل اعلان\n",
      "                              ...                        \n",
      "8571               پُر اعتماد انسان زندگي ٿو: شهريار منور\n",
      "8572    گلوڪار فرحان سعيد اداڪاره عروه حسين راهون جدا ...\n",
      "8573                 مسڪرائڻ ڏک لڪائي سگهجي ٿو: صنم ماروي\n",
      "8574    شوبز دنيا ڪيترن سالن هراسان ويو: عائشه عمر انڪشاف\n",
      "8575    علي ظفر عروج فاطمه سنڌي گيت ” الي ماروئڙا“ تيا...\n",
      "Name: Title, Length: 8576, dtype: object\n"
     ]
    }
   ],
   "source": [
    "print(data_set['Title'])"
   ]
  },
  {
   "cell_type": "code",
   "execution_count": 12,
   "metadata": {},
   "outputs": [
    {
     "name": "stdout",
     "output_type": "stream",
     "text": [
      "عدالتون\n",
      "پاڪستان\n",
      "دنيا\n",
      "سنڌ\n",
      "رانديون\n",
      "شوبز\n"
     ]
    }
   ],
   "source": [
    "type_of_news = data_set['Topic'].unique()\n",
    "for i in range(len(type_of_news)):\n",
    "    print(type_of_news[i])"
   ]
  },
  {
   "cell_type": "code",
   "execution_count": 13,
   "metadata": {},
   "outputs": [
    {
     "data": {
      "image/png": "[encoded data removed]",
      "text/plain": [
       "<Figure size 1000x600 with 1 Axes>"
      ]
     },
     "metadata": {},
     "output_type": "display_data"
    }
   ],
   "source": [
    "# bar graph of type of media\n",
    "import matplotlib.pyplot as plt\n",
    "\n",
    "type_of_news_mapping = {'عدالتون': 1, 'پاڪستان': 2, 'دنيا': 3, 'سنڌ': 4, 'رانديون': 5, 'شوبز': 6}\n",
    "type_of_news_counts = data_set['Topic'].map(type_of_news_mapping).value_counts()\n",
    "\n",
    "plt.figure(figsize=(10, 6))\n",
    "type_of_news_counts.plot(kind='bar', color='green')\n",
    "plt.xlabel('Type of News')\n",
    "plt.ylabel('Count')\n",
    "plt.title('Type of News vs Count')\n",
    "plt.show()"
   ]
  },
  {
   "cell_type": "code",
   "execution_count": 14,
   "metadata": {},
   "outputs": [
    {
     "data": {
      "image/png": "[encoded data removed]",
      "text/plain": [
       "<Figure size 1000x600 with 1 Axes>"
      ]
     },
     "metadata": {},
     "output_type": "display_data"
    }
   ],
   "source": [
    "# scatter plot of type of media\n",
    "import matplotlib.pyplot as plt\n",
    "\n",
    "type_of_news_mapping = {'عدالتون': 1, 'پاڪستان': 2, 'دنيا': 3, 'سنڌ': 4, 'رانديون': 5, 'شوبز': 6}\n",
    "type_of_news_counts = data_set['Topic'].map(type_of_news_mapping).value_counts()\n",
    "\n",
    "plt.figure(figsize=(10, 6))\n",
    "plt.scatter(type_of_news_counts.index, type_of_news_counts.values, color='green')\n",
    "plt.xlabel('Type of News')\n",
    "plt.ylabel('Count')\n",
    "plt.title('Type of News vs Count')\n",
    "plt.xticks(list(type_of_news_mapping.values()), list(type_of_news_mapping.keys()), rotation='vertical')\n",
    "plt.show()"
   ]
  },
  {
   "cell_type": "code",
   "execution_count": 18,
   "metadata": {},
   "outputs": [
    {
     "data": {
      "image/png": "[encoded data removed]",
      "text/plain": [
       "<Figure size 1000x600 with 1 Axes>"
      ]
     },
     "metadata": {},
     "output_type": "display_data"
    }
   ],
   "source": [
    "# histogram graph of type of media\n",
    "import matplotlib.pyplot as plt\n",
    "\n",
    "type_of_news_mapping = {'عدالتون': 1, 'پاڪستان': 2, 'دنيا': 3, 'سنڌ': 4, 'رانديون': 5, 'شوبز': 6}\n",
    "type_of_news_counts = data_set['Topic'].map(type_of_news_mapping)\n",
    "\n",
    "plt.figure(figsize=(10, 6))\n",
    "plt.hist(type_of_news_counts, bins=len(type_of_news_mapping), color='green')\n",
    "plt.xlabel('Type of News')\n",
    "plt.ylabel('Count')\n",
    "plt.title('Distribution of Type of News')\n",
    "plt.xticks(list(type_of_news_mapping.values()), list(type_of_news_mapping.keys()), rotation='vertical')\n",
    "plt.show()"
   ]
  },
  {
   "cell_type": "code",
   "execution_count": 21,
   "metadata": {},
   "outputs": [
    {
     "name": "stdout",
     "output_type": "stream",
     "text": [
      "  (0, 4199)\t1\n",
      "  (0, 2786)\t1\n",
      "  (0, 4571)\t1\n",
      "  (0, 1384)\t1\n",
      "  (0, 9785)\t1\n",
      "  (0, 2764)\t1\n",
      "  (1, 8204)\t1\n",
      "  (1, 2316)\t1\n",
      "  (1, 8990)\t1\n",
      "  (1, 7949)\t1\n",
      "  (1, 786)\t1\n",
      "  (1, 2927)\t1\n",
      "  (1, 668)\t1\n",
      "  (1, 6604)\t1\n",
      "  (1, 9614)\t1\n",
      "  (2, 9614)\t1\n",
      "  (2, 3896)\t1\n",
      "  (2, 2329)\t1\n",
      "  (2, 6960)\t1\n",
      "  (2, 2146)\t1\n",
      "  (2, 4167)\t1\n",
      "  (2, 6223)\t1\n",
      "  (2, 6074)\t1\n",
      "  (2, 3084)\t1\n",
      "  (2, 2320)\t1\n",
      "  :\t:\n",
      "  (8573, 8225)\t1\n",
      "  (8573, 9021)\t1\n",
      "  (8573, 5346)\t1\n",
      "  (8573, 5423)\t1\n",
      "  (8573, 4445)\t1\n",
      "  (8573, 5698)\t1\n",
      "  (8574, 3635)\t1\n",
      "  (8574, 4674)\t1\n",
      "  (8574, 4539)\t1\n",
      "  (8574, 6661)\t1\n",
      "  (8574, 1259)\t1\n",
      "  (8574, 7135)\t1\n",
      "  (8574, 3034)\t1\n",
      "  (8574, 9675)\t1\n",
      "  (8574, 4319)\t1\n",
      "  (8575, 4661)\t1\n",
      "  (8575, 2286)\t1\n",
      "  (8575, 4625)\t1\n",
      "  (8575, 4530)\t1\n",
      "  (8575, 3901)\t1\n",
      "  (8575, 4808)\t1\n",
      "  (8575, 10020)\t1\n",
      "  (8575, 1107)\t1\n",
      "  (8575, 5421)\t1\n",
      "  (8575, 7851)\t1\n"
     ]
    }
   ],
   "source": [
    "from sklearn.feature_extraction.text import CountVectorizer\n",
    "\n",
    "count_vectorizer = CountVectorizer()\n",
    "count_matrix = count_vectorizer.fit_transform(data_set['Title'])\n",
    "\n",
    "y = data_set['Topic']\n",
    "print(count_matrix)"
   ]
  },
  {
   "cell_type": "code",
   "execution_count": 22,
   "metadata": {},
   "outputs": [
    {
     "data": {
      "text/html": [
       "<style>#sk-container-id-1 {color: black;}#sk-container-id-1 pre{padding: 0;}#sk-container-id-1 div.sk-toggleable {background-color: white;}#sk-container-id-1 label.sk-toggleable__label {cursor: pointer;display: block;width: 100%;margin-bottom: 0;padding: 0.3em;box-sizing: border-box;text-align: center;}#sk-container-id-1 label.sk-toggleable__label-arrow:before {content: \"▸\";float: left;margin-right: 0.25em;color: #696969;}#sk-container-id-1 label.sk-toggleable__label-arrow:hover:before {color: black;}#sk-container-id-1 div.sk-estimator:hover label.sk-toggleable__label-arrow:before {color: black;}#sk-container-id-1 div.sk-toggleable__content {max-height: 0;max-width: 0;overflow: hidden;text-align: left;background-color: #f0f8ff;}#sk-container-id-1 div.sk-toggleable__content pre {margin: 0.2em;color: black;border-radius: 0.25em;background-color: #f0f8ff;}#sk-container-id-1 input.sk-toggleable__control:checked~div.sk-toggleable__content {max-height: 200px;max-width: 100%;overflow: auto;}#sk-container-id-1 input.sk-toggleable__control:checked~label.sk-toggleable__label-arrow:before {content: \"▾\";}#sk-container-id-1 div.sk-estimator input.sk-toggleable__control:checked~label.sk-toggleable__label {background-color: #d4ebff;}#sk-container-id-1 div.sk-label input.sk-toggleable__control:checked~label.sk-toggleable__label {background-color: #d4ebff;}#sk-container-id-1 input.sk-hidden--visually {border: 0;clip: rect(1px 1px 1px 1px);clip: rect(1px, 1px, 1px, 1px);height: 1px;margin: -1px;overflow: hidden;padding: 0;position: absolute;width: 1px;}#sk-container-id-1 div.sk-estimator {font-family: monospace;background-color: #f0f8ff;border: 1px dotted black;border-radius: 0.25em;box-sizing: border-box;margin-bottom: 0.5em;}#sk-container-id-1 div.sk-estimator:hover {background-color: #d4ebff;}#sk-container-id-1 div.sk-parallel-item::after {content: \"\";width: 100%;border-bottom: 1px solid gray;flex-grow: 1;}#sk-container-id-1 div.sk-label:hover label.sk-toggleable__label {background-color: #d4ebff;}#sk-container-id-1 div.sk-serial::before {content: \"\";position: absolute;border-left: 1px solid gray;box-sizing: border-box;top: 0;bottom: 0;left: 50%;z-index: 0;}#sk-container-id-1 div.sk-serial {display: flex;flex-direction: column;align-items: center;background-color: white;padding-right: 0.2em;padding-left: 0.2em;position: relative;}#sk-container-id-1 div.sk-item {position: relative;z-index: 1;}#sk-container-id-1 div.sk-parallel {display: flex;align-items: stretch;justify-content: center;background-color: white;position: relative;}#sk-container-id-1 div.sk-item::before, #sk-container-id-1 div.sk-parallel-item::before {content: \"\";position: absolute;border-left: 1px solid gray;box-sizing: border-box;top: 0;bottom: 0;left: 50%;z-index: -1;}#sk-container-id-1 div.sk-parallel-item {display: flex;flex-direction: column;z-index: 1;position: relative;background-color: white;}#sk-container-id-1 div.sk-parallel-item:first-child::after {align-self: flex-end;width: 50%;}#sk-container-id-1 div.sk-parallel-item:last-child::after {align-self: flex-start;width: 50%;}#sk-container-id-1 div.sk-parallel-item:only-child::after {width: 0;}#sk-container-id-1 div.sk-dashed-wrapped {border: 1px dashed gray;margin: 0 0.4em 0.5em 0.4em;box-sizing: border-box;padding-bottom: 0.4em;background-color: white;}#sk-container-id-1 div.sk-label label {font-family: monospace;font-weight: bold;display: inline-block;line-height: 1.2em;}#sk-container-id-1 div.sk-label-container {text-align: center;}#sk-container-id-1 div.sk-container {/* jupyter's `normalize.less` sets `[hidden] { display: none; }` but bootstrap.min.css set `[hidden] { display: none !important; }` so we also need the `!important` here to be able to override the default hidden behavior on the sphinx rendered scikit-learn.org. See: https://github.com/scikit-learn/scikit-learn/issues/21755 */display: inline-block !important;position: relative;}#sk-container-id-1 div.sk-text-repr-fallback {display: none;}</style><div id=\"sk-container-id-1\" class=\"sk-top-container\"><div class=\"sk-text-repr-fallback\"><pre>LogisticRegression(max_iter=1000)</pre><b>In a Jupyter environment, please rerun this cell to show the HTML representation or trust the notebook. <br />On GitHub, the HTML representation is unable to render, please try loading this page with nbviewer.org.</b></div><div class=\"sk-container\" hidden><div class=\"sk-item\"><div class=\"sk-estimator sk-toggleable\"><input class=\"sk-toggleable__control sk-hidden--visually\" id=\"sk-estimator-id-1\" type=\"checkbox\" checked><label for=\"sk-estimator-id-1\" class=\"sk-toggleable__label sk-toggleable__label-arrow\">LogisticRegression</label><div class=\"sk-toggleable__content\"><pre>LogisticRegression(max_iter=1000)</pre></div></div></div></div></div>"
      ],
      "text/plain": [
       "LogisticRegression(max_iter=1000)"
      ]
     },
     "execution_count": 22,
     "metadata": {},
     "output_type": "execute_result"
    }
   ],
   "source": [
    "#Classification LAgorithm 1\n",
    "from sklearn.linear_model import LogisticRegression\n",
    "from sklearn.metrics import classification_report\n",
    "from sklearn.model_selection import train_test_split\n",
    "\n",
    "x_train, x_test, y_train, y_test = train_test_split(count_matrix, y, test_size=0.2, random_state=42)\n",
    "\n",
    "logistic_regression = LogisticRegression(max_iter=1000)\n",
    "logistic_regression.fit(x_train, y_train)\n"
   ]
  },
  {
   "cell_type": "code",
   "execution_count": 23,
   "metadata": {},
   "outputs": [
    {
     "name": "stdout",
     "output_type": "stream",
     "text": [
      "              precision    recall  f1-score   support\n",
      "\n",
      "        دنيا       0.77      0.65      0.71       170\n",
      "     رانديون       0.56      0.23      0.32        22\n",
      "         سنڌ       0.72      0.65      0.68       327\n",
      "        شوبز       1.00      0.10      0.18        30\n",
      "     عدالتون       0.60      0.43      0.50        72\n",
      "     پاڪستان       0.81      0.90      0.85      1095\n",
      "\n",
      "    accuracy                           0.78      1716\n",
      "   macro avg       0.74      0.49      0.54      1716\n",
      "weighted avg       0.78      0.78      0.77      1716\n",
      "\n"
     ]
    }
   ],
   "source": [
    "# classification report of logistic model\n",
    "y_pred = logistic_regression.predict(x_test)\n",
    "logistic_regression_report = classification_report(y_test, y_pred, zero_division=1)\n",
    "print(logistic_regression_report)"
   ]
  },
  {
   "cell_type": "code",
   "execution_count": 25,
   "metadata": {},
   "outputs": [
    {
     "data": {
      "text/html": [
       "<style>#sk-container-id-2 {color: black;}#sk-container-id-2 pre{padding: 0;}#sk-container-id-2 div.sk-toggleable {background-color: white;}#sk-container-id-2 label.sk-toggleable__label {cursor: pointer;display: block;width: 100%;margin-bottom: 0;padding: 0.3em;box-sizing: border-box;text-align: center;}#sk-container-id-2 label.sk-toggleable__label-arrow:before {content: \"▸\";float: left;margin-right: 0.25em;color: #696969;}#sk-container-id-2 label.sk-toggleable__label-arrow:hover:before {color: black;}#sk-container-id-2 div.sk-estimator:hover label.sk-toggleable__label-arrow:before {color: black;}#sk-container-id-2 div.sk-toggleable__content {max-height: 0;max-width: 0;overflow: hidden;text-align: left;background-color: #f0f8ff;}#sk-container-id-2 div.sk-toggleable__content pre {margin: 0.2em;color: black;border-radius: 0.25em;background-color: #f0f8ff;}#sk-container-id-2 input.sk-toggleable__control:checked~div.sk-toggleable__content {max-height: 200px;max-width: 100%;overflow: auto;}#sk-container-id-2 input.sk-toggleable__control:checked~label.sk-toggleable__label-arrow:before {content: \"▾\";}#sk-container-id-2 div.sk-estimator input.sk-toggleable__control:checked~label.sk-toggleable__label {background-color: #d4ebff;}#sk-container-id-2 div.sk-label input.sk-toggleable__control:checked~label.sk-toggleable__label {background-color: #d4ebff;}#sk-container-id-2 input.sk-hidden--visually {border: 0;clip: rect(1px 1px 1px 1px);clip: rect(1px, 1px, 1px, 1px);height: 1px;margin: -1px;overflow: hidden;padding: 0;position: absolute;width: 1px;}#sk-container-id-2 div.sk-estimator {font-family: monospace;background-color: #f0f8ff;border: 1px dotted black;border-radius: 0.25em;box-sizing: border-box;margin-bottom: 0.5em;}#sk-container-id-2 div.sk-estimator:hover {background-color: #d4ebff;}#sk-container-id-2 div.sk-parallel-item::after {content: \"\";width: 100%;border-bottom: 1px solid gray;flex-grow: 1;}#sk-container-id-2 div.sk-label:hover label.sk-toggleable__label {background-color: #d4ebff;}#sk-container-id-2 div.sk-serial::before {content: \"\";position: absolute;border-left: 1px solid gray;box-sizing: border-box;top: 0;bottom: 0;left: 50%;z-index: 0;}#sk-container-id-2 div.sk-serial {display: flex;flex-direction: column;align-items: center;background-color: white;padding-right: 0.2em;padding-left: 0.2em;position: relative;}#sk-container-id-2 div.sk-item {position: relative;z-index: 1;}#sk-container-id-2 div.sk-parallel {display: flex;align-items: stretch;justify-content: center;background-color: white;position: relative;}#sk-container-id-2 div.sk-item::before, #sk-container-id-2 div.sk-parallel-item::before {content: \"\";position: absolute;border-left: 1px solid gray;box-sizing: border-box;top: 0;bottom: 0;left: 50%;z-index: -1;}#sk-container-id-2 div.sk-parallel-item {display: flex;flex-direction: column;z-index: 1;position: relative;background-color: white;}#sk-container-id-2 div.sk-parallel-item:first-child::after {align-self: flex-end;width: 50%;}#sk-container-id-2 div.sk-parallel-item:last-child::after {align-self: flex-start;width: 50%;}#sk-container-id-2 div.sk-parallel-item:only-child::after {width: 0;}#sk-container-id-2 div.sk-dashed-wrapped {border: 1px dashed gray;margin: 0 0.4em 0.5em 0.4em;box-sizing: border-box;padding-bottom: 0.4em;background-color: white;}#sk-container-id-2 div.sk-label label {font-family: monospace;font-weight: bold;display: inline-block;line-height: 1.2em;}#sk-container-id-2 div.sk-label-container {text-align: center;}#sk-container-id-2 div.sk-container {/* jupyter's `normalize.less` sets `[hidden] { display: none; }` but bootstrap.min.css set `[hidden] { display: none !important; }` so we also need the `!important` here to be able to override the default hidden behavior on the sphinx rendered scikit-learn.org. See: https://github.com/scikit-learn/scikit-learn/issues/21755 */display: inline-block !important;position: relative;}#sk-container-id-2 div.sk-text-repr-fallback {display: none;}</style><div id=\"sk-container-id-2\" class=\"sk-top-container\"><div class=\"sk-text-repr-fallback\"><pre>DecisionTreeClassifier()</pre><b>In a Jupyter environment, please rerun this cell to show the HTML representation or trust the notebook. <br />On GitHub, the HTML representation is unable to render, please try loading this page with nbviewer.org.</b></div><div class=\"sk-container\" hidden><div class=\"sk-item\"><div class=\"sk-estimator sk-toggleable\"><input class=\"sk-toggleable__control sk-hidden--visually\" id=\"sk-estimator-id-2\" type=\"checkbox\" checked><label for=\"sk-estimator-id-2\" class=\"sk-toggleable__label sk-toggleable__label-arrow\">DecisionTreeClassifier</label><div class=\"sk-toggleable__content\"><pre>DecisionTreeClassifier()</pre></div></div></div></div></div>"
      ],
      "text/plain": [
       "DecisionTreeClassifier()"
      ]
     },
     "execution_count": 25,
     "metadata": {},
     "output_type": "execute_result"
    }
   ],
   "source": [
    "# desicion tree\n",
    "from sklearn.tree import DecisionTreeClassifier\n",
    "\n",
    "# Split the data\n",
    "x_train, x_test, y_train, y_test = train_test_split(count_matrix, y, test_size=0.2, random_state=42)\n",
    "\n",
    "# Create and train the model\n",
    "decision_tree = DecisionTreeClassifier()\n",
    "decision_tree.fit(x_train, y_train)"
   ]
  },
  {
   "cell_type": "code",
   "execution_count": 26,
   "metadata": {},
   "outputs": [
    {
     "name": "stdout",
     "output_type": "stream",
     "text": [
      "              precision    recall  f1-score   support\n",
      "\n",
      "        دنيا       0.69      0.65      0.67       170\n",
      "     رانديون       0.40      0.36      0.38        22\n",
      "         سنڌ       0.63      0.59      0.61       327\n",
      "        شوبز       0.50      0.27      0.35        30\n",
      "     عدالتون       0.51      0.33      0.40        72\n",
      "     پاڪستان       0.80      0.85      0.82      1095\n",
      "\n",
      "    accuracy                           0.74      1716\n",
      "   macro avg       0.59      0.51      0.54      1716\n",
      "weighted avg       0.73      0.74      0.73      1716\n",
      "\n"
     ]
    }
   ],
   "source": [
    "# calssification report of decision tree\n",
    "y_pred_dt = decision_tree.predict(x_test)\n",
    "\n",
    "# Evaluate and print the classification report\n",
    "decision_tree_report = classification_report(y_test, y_pred_dt, zero_division=1)\n",
    "print(decision_tree_report)\n"
   ]
  },
  {
   "cell_type": "code",
   "execution_count": 27,
   "metadata": {},
   "outputs": [
    {
     "data": {
      "text/html": [
       "<style>#sk-container-id-3 {color: black;}#sk-container-id-3 pre{padding: 0;}#sk-container-id-3 div.sk-toggleable {background-color: white;}#sk-container-id-3 label.sk-toggleable__label {cursor: pointer;display: block;width: 100%;margin-bottom: 0;padding: 0.3em;box-sizing: border-box;text-align: center;}#sk-container-id-3 label.sk-toggleable__label-arrow:before {content: \"▸\";float: left;margin-right: 0.25em;color: #696969;}#sk-container-id-3 label.sk-toggleable__label-arrow:hover:before {color: black;}#sk-container-id-3 div.sk-estimator:hover label.sk-toggleable__label-arrow:before {color: black;}#sk-container-id-3 div.sk-toggleable__content {max-height: 0;max-width: 0;overflow: hidden;text-align: left;background-color: #f0f8ff;}#sk-container-id-3 div.sk-toggleable__content pre {margin: 0.2em;color: black;border-radius: 0.25em;background-color: #f0f8ff;}#sk-container-id-3 input.sk-toggleable__control:checked~div.sk-toggleable__content {max-height: 200px;max-width: 100%;overflow: auto;}#sk-container-id-3 input.sk-toggleable__control:checked~label.sk-toggleable__label-arrow:before {content: \"▾\";}#sk-container-id-3 div.sk-estimator input.sk-toggleable__control:checked~label.sk-toggleable__label {background-color: #d4ebff;}#sk-container-id-3 div.sk-label input.sk-toggleable__control:checked~label.sk-toggleable__label {background-color: #d4ebff;}#sk-container-id-3 input.sk-hidden--visually {border: 0;clip: rect(1px 1px 1px 1px);clip: rect(1px, 1px, 1px, 1px);height: 1px;margin: -1px;overflow: hidden;padding: 0;position: absolute;width: 1px;}#sk-container-id-3 div.sk-estimator {font-family: monospace;background-color: #f0f8ff;border: 1px dotted black;border-radius: 0.25em;box-sizing: border-box;margin-bottom: 0.5em;}#sk-container-id-3 div.sk-estimator:hover {background-color: #d4ebff;}#sk-container-id-3 div.sk-parallel-item::after {content: \"\";width: 100%;border-bottom: 1px solid gray;flex-grow: 1;}#sk-container-id-3 div.sk-label:hover label.sk-toggleable__label {background-color: #d4ebff;}#sk-container-id-3 div.sk-serial::before {content: \"\";position: absolute;border-left: 1px solid gray;box-sizing: border-box;top: 0;bottom: 0;left: 50%;z-index: 0;}#sk-container-id-3 div.sk-serial {display: flex;flex-direction: column;align-items: center;background-color: white;padding-right: 0.2em;padding-left: 0.2em;position: relative;}#sk-container-id-3 div.sk-item {position: relative;z-index: 1;}#sk-container-id-3 div.sk-parallel {display: flex;align-items: stretch;justify-content: center;background-color: white;position: relative;}#sk-container-id-3 div.sk-item::before, #sk-container-id-3 div.sk-parallel-item::before {content: \"\";position: absolute;border-left: 1px solid gray;box-sizing: border-box;top: 0;bottom: 0;left: 50%;z-index: -1;}#sk-container-id-3 div.sk-parallel-item {display: flex;flex-direction: column;z-index: 1;position: relative;background-color: white;}#sk-container-id-3 div.sk-parallel-item:first-child::after {align-self: flex-end;width: 50%;}#sk-container-id-3 div.sk-parallel-item:last-child::after {align-self: flex-start;width: 50%;}#sk-container-id-3 div.sk-parallel-item:only-child::after {width: 0;}#sk-container-id-3 div.sk-dashed-wrapped {border: 1px dashed gray;margin: 0 0.4em 0.5em 0.4em;box-sizing: border-box;padding-bottom: 0.4em;background-color: white;}#sk-container-id-3 div.sk-label label {font-family: monospace;font-weight: bold;display: inline-block;line-height: 1.2em;}#sk-container-id-3 div.sk-label-container {text-align: center;}#sk-container-id-3 div.sk-container {/* jupyter's `normalize.less` sets `[hidden] { display: none; }` but bootstrap.min.css set `[hidden] { display: none !important; }` so we also need the `!important` here to be able to override the default hidden behavior on the sphinx rendered scikit-learn.org. See: https://github.com/scikit-learn/scikit-learn/issues/21755 */display: inline-block !important;position: relative;}#sk-container-id-3 div.sk-text-repr-fallback {display: none;}</style><div id=\"sk-container-id-3\" class=\"sk-top-container\"><div class=\"sk-text-repr-fallback\"><pre>RandomForestClassifier()</pre><b>In a Jupyter environment, please rerun this cell to show the HTML representation or trust the notebook. <br />On GitHub, the HTML representation is unable to render, please try loading this page with nbviewer.org.</b></div><div class=\"sk-container\" hidden><div class=\"sk-item\"><div class=\"sk-estimator sk-toggleable\"><input class=\"sk-toggleable__control sk-hidden--visually\" id=\"sk-estimator-id-3\" type=\"checkbox\" checked><label for=\"sk-estimator-id-3\" class=\"sk-toggleable__label sk-toggleable__label-arrow\">RandomForestClassifier</label><div class=\"sk-toggleable__content\"><pre>RandomForestClassifier()</pre></div></div></div></div></div>"
      ],
      "text/plain": [
       "RandomForestClassifier()"
      ]
     },
     "execution_count": 27,
     "metadata": {},
     "output_type": "execute_result"
    }
   ],
   "source": [
    "# Random Forest\n",
    "from sklearn.ensemble import RandomForestClassifier\n",
    "\n",
    "# Split the data\n",
    "x_train, x_test, y_train, y_test = train_test_split(count_matrix, y, test_size=0.2, random_state=42)\n",
    "\n",
    "# Create and train the model\n",
    "random_forest = RandomForestClassifier()\n",
    "random_forest.fit(x_train, y_train)\n"
   ]
  },
  {
   "cell_type": "code",
   "execution_count": 28,
   "metadata": {},
   "outputs": [
    {
     "name": "stdout",
     "output_type": "stream",
     "text": [
      "              precision    recall  f1-score   support\n",
      "\n",
      "        دنيا       0.84      0.56      0.67       170\n",
      "     رانديون       0.71      0.23      0.34        22\n",
      "         سنڌ       0.75      0.60      0.66       327\n",
      "        شوبز       1.00      0.03      0.06        30\n",
      "     عدالتون       0.68      0.26      0.38        72\n",
      "     پاڪستان       0.78      0.93      0.85      1095\n",
      "\n",
      "    accuracy                           0.78      1716\n",
      "   macro avg       0.79      0.43      0.50      1716\n",
      "weighted avg       0.78      0.78      0.75      1716\n",
      "\n"
     ]
    }
   ],
   "source": [
    "# classification report of random forest\n",
    "y_pred_rf = random_forest.predict(x_test)\n",
    "\n",
    "# Evaluate and print the classification report\n",
    "random_forest_report = classification_report(y_test, y_pred_rf, zero_division=1)\n",
    "print(random_forest_report)"
   ]
  },
  {
   "cell_type": "code",
   "execution_count": 29,
   "metadata": {},
   "outputs": [
    {
     "data": {
      "text/html": [
       "<style>#sk-container-id-4 {color: black;}#sk-container-id-4 pre{padding: 0;}#sk-container-id-4 div.sk-toggleable {background-color: white;}#sk-container-id-4 label.sk-toggleable__label {cursor: pointer;display: block;width: 100%;margin-bottom: 0;padding: 0.3em;box-sizing: border-box;text-align: center;}#sk-container-id-4 label.sk-toggleable__label-arrow:before {content: \"▸\";float: left;margin-right: 0.25em;color: #696969;}#sk-container-id-4 label.sk-toggleable__label-arrow:hover:before {color: black;}#sk-container-id-4 div.sk-estimator:hover label.sk-toggleable__label-arrow:before {color: black;}#sk-container-id-4 div.sk-toggleable__content {max-height: 0;max-width: 0;overflow: hidden;text-align: left;background-color: #f0f8ff;}#sk-container-id-4 div.sk-toggleable__content pre {margin: 0.2em;color: black;border-radius: 0.25em;background-color: #f0f8ff;}#sk-container-id-4 input.sk-toggleable__control:checked~div.sk-toggleable__content {max-height: 200px;max-width: 100%;overflow: auto;}#sk-container-id-4 input.sk-toggleable__control:checked~label.sk-toggleable__label-arrow:before {content: \"▾\";}#sk-container-id-4 div.sk-estimator input.sk-toggleable__control:checked~label.sk-toggleable__label {background-color: #d4ebff;}#sk-container-id-4 div.sk-label input.sk-toggleable__control:checked~label.sk-toggleable__label {background-color: #d4ebff;}#sk-container-id-4 input.sk-hidden--visually {border: 0;clip: rect(1px 1px 1px 1px);clip: rect(1px, 1px, 1px, 1px);height: 1px;margin: -1px;overflow: hidden;padding: 0;position: absolute;width: 1px;}#sk-container-id-4 div.sk-estimator {font-family: monospace;background-color: #f0f8ff;border: 1px dotted black;border-radius: 0.25em;box-sizing: border-box;margin-bottom: 0.5em;}#sk-container-id-4 div.sk-estimator:hover {background-color: #d4ebff;}#sk-container-id-4 div.sk-parallel-item::after {content: \"\";width: 100%;border-bottom: 1px solid gray;flex-grow: 1;}#sk-container-id-4 div.sk-label:hover label.sk-toggleable__label {background-color: #d4ebff;}#sk-container-id-4 div.sk-serial::before {content: \"\";position: absolute;border-left: 1px solid gray;box-sizing: border-box;top: 0;bottom: 0;left: 50%;z-index: 0;}#sk-container-id-4 div.sk-serial {display: flex;flex-direction: column;align-items: center;background-color: white;padding-right: 0.2em;padding-left: 0.2em;position: relative;}#sk-container-id-4 div.sk-item {position: relative;z-index: 1;}#sk-container-id-4 div.sk-parallel {display: flex;align-items: stretch;justify-content: center;background-color: white;position: relative;}#sk-container-id-4 div.sk-item::before, #sk-container-id-4 div.sk-parallel-item::before {content: \"\";position: absolute;border-left: 1px solid gray;box-sizing: border-box;top: 0;bottom: 0;left: 50%;z-index: -1;}#sk-container-id-4 div.sk-parallel-item {display: flex;flex-direction: column;z-index: 1;position: relative;background-color: white;}#sk-container-id-4 div.sk-parallel-item:first-child::after {align-self: flex-end;width: 50%;}#sk-container-id-4 div.sk-parallel-item:last-child::after {align-self: flex-start;width: 50%;}#sk-container-id-4 div.sk-parallel-item:only-child::after {width: 0;}#sk-container-id-4 div.sk-dashed-wrapped {border: 1px dashed gray;margin: 0 0.4em 0.5em 0.4em;box-sizing: border-box;padding-bottom: 0.4em;background-color: white;}#sk-container-id-4 div.sk-label label {font-family: monospace;font-weight: bold;display: inline-block;line-height: 1.2em;}#sk-container-id-4 div.sk-label-container {text-align: center;}#sk-container-id-4 div.sk-container {/* jupyter's `normalize.less` sets `[hidden] { display: none; }` but bootstrap.min.css set `[hidden] { display: none !important; }` so we also need the `!important` here to be able to override the default hidden behavior on the sphinx rendered scikit-learn.org. See: https://github.com/scikit-learn/scikit-learn/issues/21755 */display: inline-block !important;position: relative;}#sk-container-id-4 div.sk-text-repr-fallback {display: none;}</style><div id=\"sk-container-id-4\" class=\"sk-top-container\"><div class=\"sk-text-repr-fallback\"><pre>SVC()</pre><b>In a Jupyter environment, please rerun this cell to show the HTML representation or trust the notebook. <br />On GitHub, the HTML representation is unable to render, please try loading this page with nbviewer.org.</b></div><div class=\"sk-container\" hidden><div class=\"sk-item\"><div class=\"sk-estimator sk-toggleable\"><input class=\"sk-toggleable__control sk-hidden--visually\" id=\"sk-estimator-id-4\" type=\"checkbox\" checked><label for=\"sk-estimator-id-4\" class=\"sk-toggleable__label sk-toggleable__label-arrow\">SVC</label><div class=\"sk-toggleable__content\"><pre>SVC()</pre></div></div></div></div></div>"
      ],
      "text/plain": [
       "SVC()"
      ]
     },
     "execution_count": 29,
     "metadata": {},
     "output_type": "execute_result"
    }
   ],
   "source": [
    "#support vector machine svm\n",
    "from sklearn.svm import SVC\n",
    "\n",
    "# Split the data\n",
    "x_train, x_test, y_train, y_test = train_test_split(count_matrix, y, test_size=0.2, random_state=42)\n",
    "\n",
    "# Create and train the model\n",
    "svm_classifier = SVC()\n",
    "svm_classifier.fit(x_train, y_train)"
   ]
  },
  {
   "cell_type": "code",
   "execution_count": 30,
   "metadata": {},
   "outputs": [
    {
     "name": "stdout",
     "output_type": "stream",
     "text": [
      "              precision    recall  f1-score   support\n",
      "\n",
      "        دنيا       0.87      0.52      0.65       170\n",
      "     رانديون       1.00      0.05      0.09        22\n",
      "         سنڌ       0.77      0.60      0.67       327\n",
      "        شوبز       1.00      0.00      0.00        30\n",
      "     عدالتون       0.77      0.28      0.41        72\n",
      "     پاڪستان       0.77      0.94      0.85      1095\n",
      "\n",
      "    accuracy                           0.78      1716\n",
      "   macro avg       0.86      0.40      0.44      1716\n",
      "weighted avg       0.79      0.78      0.75      1716\n",
      "\n"
     ]
    }
   ],
   "source": [
    "# support vector machines classification report\n",
    "y_pred_svm = svm_classifier.predict(x_test)\n",
    "\n",
    "# Evaluate and print the classification report\n",
    "svm_report = classification_report(y_test, y_pred_svm, zero_division=1)\n",
    "print(svm_report)\n"
   ]
  }
 ],
 "metadata": {
  "kernelspec": {
   "display_name": "Python 3 (ipykernel)",
   "language": "python",
   "name": "python3"
  },
  "language_info": {
   "codemirror_mode": {
    "name": "ipython",
    "version": 3
   },
   "file_extension": ".py",
   "mimetype": "text/x-python",
   "name": "python",
   "nbconvert_exporter": "python",
   "pygments_lexer": "ipython3",
   "version": "3.11.5"
  }
 },
 "nbformat": 4,
 "nbformat_minor": 2
}
